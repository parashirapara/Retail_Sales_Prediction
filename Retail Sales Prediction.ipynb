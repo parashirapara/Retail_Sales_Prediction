{
  "nbformat": 4,
  "nbformat_minor": 0,
  "metadata": {
    "colab": {
      "private_outputs": true,
      "provenance": [],
      "collapsed_sections": [
        "mDgbUHAGgjLW",
        "Yfr_Vlr8HBkt"
      ]
    },
    "kernelspec": {
      "name": "python3",
      "display_name": "Python 3"
    },
    "language_info": {
      "name": "python"
    }
  },
  "cells": [
    {
      "cell_type": "markdown",
      "source": [
        "# **Project Name**    -  Retail Sales Pridiction\n"
      ],
      "metadata": {
        "id": "vncDsAP0Gaoa"
      }
    },
    {
      "cell_type": "markdown",
      "source": [
        "**Project Type**    - Regression\n",
        "##### **Contribution**    - Team\n",
        "##### **Team Member 1 -** Paras Hirapara\n",
        "##### **Team Member 2 -** Devendra kumar\n",
        "##### **Team Member 3 -** Sameer Sing\n",
        "##### **Team Member 4 -** Arpita\n",
        "##### **Team Member 5 -** Arti Gaur"
      ],
      "metadata": {
        "id": "beRrZCGUAJYm"
      }
    },
    {
      "cell_type": "markdown",
      "source": [
        "# Project Description"
      ],
      "metadata": {
        "id": "FJNUwmbgGyua"
      }
    },
    {
      "cell_type": "markdown",
      "source": [
        "In seven European nations, Rossmann runs more than 3,000 pharmacies. Rossmann store managers are currently required to forecast their daily sales up to six weeks in advance. Numerous factors, such as marketing, rivalry, state and federal holidays, seasonality, and location, affect store sales. The accuracy of the results can be highly variable because thousands of different managers are making sales predictions based on their own situations."
      ],
      "metadata": {
        "id": "F6v_1wHtG2nS"
      }
    },
    {
      "cell_type": "markdown",
      "source": [
        "# **GitHub Link -**"
      ],
      "metadata": {
        "id": "w6K7xa23Elo4"
      }
    },
    {
      "cell_type": "markdown",
      "source": [
        "https://github.com/parashirapara?tab=repositories"
      ],
      "metadata": {
        "id": "h1o69JH3Eqqn"
      }
    },
    {
      "cell_type": "markdown",
      "source": [
        "# **Problem Statement**\n"
      ],
      "metadata": {
        "id": "yQaldy8SH6Dl"
      }
    },
    {
      "cell_type": "markdown",
      "source": [
        "The interest in a product continues to change occasionally. No business can work on its monetary growth without assessing client interest and future demand of items precisely. Sales forecasting refers to the process of estimating demand for or sales of a particular product over a specific period of time. This project involves solving a real-world business problem of sales forecasting and building up a machine learning model for the same.\n",
        "\n",
        "Our goal here is to forecast the sales for six weeks for each store and find out the factors influencing it and recommend ways in order to improve the numbers.\n",
        "\n",
        "# **Approach**\n",
        "\n",
        "\n",
        "\n",
        "*   Business Problem\n",
        "*   Data Collection and Preprocessing - Importing important libraries and modules - Data Cleaning - Missing Data Handling - Merging the Datasets\n",
        "\n",
        "\n",
        "*   Exploratory Data Analysis - Hypotheses - Categorical Features - Continuous Features - EDA Conclusion and Validating Hypotheses\n",
        "\n",
        "*   Feature Selection and Outlier Detection - Feature Engineering - Outlier Detection and Treatment\n",
        "\n",
        "\n",
        "\n",
        "*   Modeling - Train Test Split - Baseline Model - Decision Tree - Random Forest Model - Random Forest Hyperparameter Tuning - Random Forest Feature Importance\n",
        "*   Model Performance and Evaluation - Visualizing Model Performances - Random Forest vs Baseline Model - Random Forest Tuned vs Baseline and Random Forest Models\n",
        "\n",
        "\n",
        "*   Store wise Sales Predictions\n",
        "\n",
        "*   Conclusion and Recommendations\n",
        "\n",
        "\n",
        "\n",
        "\n",
        "\n"
      ],
      "metadata": {
        "id": "DpeJGUA3kjGy"
      }
    },
    {
      "cell_type": "markdown",
      "source": [
        "# **Data Description**"
      ],
      "metadata": {
        "id": "QZze6aUnYFYw"
      }
    },
    {
      "cell_type": "markdown",
      "source": [
        "Rossmann Stores Data.csv - historical data including Sales\n",
        "\n",
        "store.csv - supplemental information about the stores\n",
        "\n",
        "**Data fields**\n",
        "\n",
        "Most of the fields are self-explanatory.\n",
        "\n",
        "**Id** - an Id that represents a (Store, Date) duple within the set\n",
        "\n",
        "**Store** - a unique Id for each store\n",
        "\n",
        "**Sales** - the turnover for any given day (Dependent Variable)\n",
        "\n",
        "**Customers** - the number of customers on a given day\n",
        "\n",
        "**Open** - an indicator for whether the store was open: 0 = closed, 1 = open\n",
        "\n",
        "**StateHoliday** - indicates a state holiday. Normally all stores, with few exceptions, are closed on state holidays. Note that all schools are closed on public holidays and weekends. a = public holiday, b = Easter holiday, c = Christmas, 0 = None\n",
        "\n",
        "**SchoolHoliday** - indicates if the (Store, Date) was affected by the closure of public schools\n",
        "\n",
        "**StoreType** - differentiates between 4 different store models: a, b, c, d\n",
        "\n",
        "**Assortment** - describes an assortment level: a = basic, b = extra, c = extended. An assortment strategy in retailing involves the number and type of products that stores display for purchase by consumers.\n",
        "\n",
        "**CompetitionDistance** - distance in meters to the nearest competitor store\n",
        "CompetitionOpenSince[Month/Year] - gives the approximate year and month of the time the nearest competitor was opened\n",
        "\n",
        "**Promo** - indicates whether a store is running a promo on that day\n",
        "\n",
        "**Promo2** - Promo2 is a continuing and consecutive promotion for some stores: 0 = store is not participating, 1 = store is participating\n",
        "\n",
        "**Promo2Since**[Year/Week] - describes the year and calendar week when the store started participating in Promo2\n",
        "\n",
        "**PromoInterval** - describes the consecutive intervals Promo2 is started, naming the months the promotion is started anew. E.g. \"Feb,May,Aug,Nov\" means each round starts in February, May, August, November of any given year for that store"
      ],
      "metadata": {
        "id": "ioh3m-AAYI1B"
      }
    },
    {
      "cell_type": "markdown",
      "source": [
        "# **General Guidelines** : -"
      ],
      "metadata": {
        "id": "mDgbUHAGgjLW"
      }
    },
    {
      "cell_type": "markdown",
      "source": [
        "1.   Well-structured, formatted, and commented code is required.\n",
        "2.   Exception Handling, Production Grade Code & Deployment Ready Code will be a plus. Those students will be awarded some additional credits.\n",
        "\n",
        "     The additional credits will have advantages over other students during Star Student selection.\n",
        "\n",
        "             [ Note: - Deployment Ready Code is defined as, the whole .ipynb notebook should be executable in one go\n",
        "                       without a single error logged. ]\n",
        "\n",
        "3.   Each and every logic should have proper comments.\n",
        "4. You may add as many number of charts you want. Make Sure for each and every chart the following format should be answered.\n",
        "\n",
        "\n",
        "```\n",
        "# Chart visualization code\n",
        "```\n",
        "\n",
        "\n",
        "*   Why did you pick the specific chart?\n",
        "*   What is/are the insight(s) found from the chart?\n",
        "* Will the gained insights help creating a positive business impact?\n",
        "Are there any insights that lead to negative growth? Justify with specific reason.\n",
        "\n",
        "5. You have to create at least 15 logical & meaningful charts having important insights.\n",
        "\n",
        "\n",
        "[ Hints : - Do the Vizualization in  a structured way while following \"UBM\" Rule.\n",
        "\n",
        "U - Univariate Analysis,\n",
        "\n",
        "B - Bivariate Analysis (Numerical - Categorical, Numerical - Numerical, Categorical - Categorical)\n",
        "\n",
        "M - Multivariate Analysis\n",
        " ]\n",
        "\n",
        "\n",
        "\n",
        "\n",
        "\n",
        "6. You may add more ml algorithms for model creation. Make sure for each and every algorithm, the following format should be answered.\n",
        "\n",
        "\n",
        "*   Explain the ML Model used and it's performance using Evaluation metric Score Chart.\n",
        "\n",
        "\n",
        "*   Cross- Validation & Hyperparameter Tuning\n",
        "\n",
        "*   Have you seen any improvement? Note down the improvement with updates Evaluation metric Score Chart.\n",
        "\n",
        "*   Explain each evaluation metric's indication towards business and the business impact pf the ML model used.\n",
        "\n",
        "\n",
        "\n",
        "\n",
        "\n",
        "\n",
        "\n",
        "\n",
        "\n",
        "\n",
        "\n",
        "\n",
        "\n",
        "\n",
        "\n",
        "\n",
        "\n",
        "\n"
      ],
      "metadata": {
        "id": "ZrxVaUj-hHfC"
      }
    },
    {
      "cell_type": "markdown",
      "source": [
        "# ***Let's Begin !***"
      ],
      "metadata": {
        "id": "O_i_v8NEhb9l"
      }
    },
    {
      "cell_type": "markdown",
      "source": [
        "## ***1. Know Your Data***"
      ],
      "metadata": {
        "id": "HhfV-JJviCcP"
      }
    },
    {
      "cell_type": "markdown",
      "source": [
        "### Import Libraries"
      ],
      "metadata": {
        "id": "Y3lxredqlCYt"
      }
    },
    {
      "cell_type": "code",
      "source": [
        "from seaborn.rcmod import set_style\n",
        "\n",
        "# Importing libraries\n",
        "\n",
        "import pandas as pd\n",
        "import numpy as np\n",
        "from numpy import math\n",
        "import matplotlib.pyplot as plt\n",
        "%matplotlib inline\n",
        "import seaborn as sns\n",
        "sns.set_theme(style= 'whitegrid', palette = 'mako')\n",
        "\n",
        "import datetime as dt\n",
        "from datetime import datetime\n",
        "\n",
        "# Importing Models libraries\n",
        "\n",
        "from sklearn.linear_model import LinearRegression\n",
        "from sklearn.linear_model import Lasso\n",
        "from sklearn.linear_model import Ridge\n",
        "from sklearn.linear_model import ElasticNet\n",
        "from sklearn.tree import DecisionTreeRegressor\n",
        "from sklearn.ensemble import RandomForestRegressor\n",
        "from sklearn.ensemble import GradientBoostingRegressor\n",
        "\n",
        "from sklearn.preprocessing import MinMaxScaler\n",
        "from sklearn.preprocessing import OneHotEncoder\n",
        "\n",
        "from sklearn.model_selection import cross_validate\n",
        "from sklearn.model_selection import train_test_split\n",
        "from sklearn.model_selection import GridSearchCV\n",
        "from sklearn.model_selection import cross_val_score\n",
        "\n",
        "from sklearn import metrics\n",
        "from scipy import stats\n",
        "from scipy.stats import norm\n",
        "from scipy.stats import ttest_ind\n",
        "from sklearn.metrics import r2_score\n",
        "from sklearn.metrics import mean_squared_error\n",
        "from sklearn.metrics import mean_absolute_error\n",
        "\n",
        "import warnings\n",
        "warnings.filterwarnings('ignore')"
      ],
      "metadata": {
        "id": "M8Vqi-pPk-HR"
      },
      "execution_count": null,
      "outputs": []
    },
    {
      "cell_type": "markdown",
      "source": [
        "### Dataset Loading"
      ],
      "metadata": {
        "id": "3RnN4peoiCZX"
      }
    },
    {
      "cell_type": "code",
      "source": [
        "# Load Dataset\n",
        "\n",
        "from google.colab import drive\n",
        "drive.mount('/content/drive')"
      ],
      "metadata": {
        "id": "iTqUyKupiLp5"
      },
      "execution_count": null,
      "outputs": []
    },
    {
      "cell_type": "code",
      "source": [
        "# Load Dataset path\n",
        "\n",
        "sales_df = pd.read_csv(\"/content/drive/MyDrive/Data Science/Capston Project/Retail Store Prediction/Rossmann Stores Data.csv\",parse_dates=['Date'])\n",
        "stores_df = pd.read_csv(\"/content/drive/MyDrive/Data Science/Capston Project/Retail Store Prediction/store.csv\")"
      ],
      "metadata": {
        "id": "YfRDQEVciYfu"
      },
      "execution_count": null,
      "outputs": []
    },
    {
      "cell_type": "markdown",
      "source": [
        "## **2. Understanding Your Variables**"
      ],
      "metadata": {
        "id": "0XF37UiWBrt4"
      }
    },
    {
      "cell_type": "markdown",
      "source": [
        "### Dataset First View"
      ],
      "metadata": {
        "id": "x71ZqKXriCWQ"
      }
    },
    {
      "cell_type": "code",
      "source": [
        "# Dataset First Look\n",
        "\n",
        "sales_df.head(6)"
      ],
      "metadata": {
        "id": "LWNFOSvLl09H"
      },
      "execution_count": null,
      "outputs": []
    },
    {
      "cell_type": "code",
      "source": [
        "stores_df.head(6)"
      ],
      "metadata": {
        "id": "iwAEeAiYh8L5"
      },
      "execution_count": null,
      "outputs": []
    },
    {
      "cell_type": "code",
      "source": [
        "# Description of sales dataset\n",
        "\n",
        "sales_df.describe()"
      ],
      "metadata": {
        "id": "fDYt0IsCkaHo"
      },
      "execution_count": null,
      "outputs": []
    },
    {
      "cell_type": "code",
      "source": [
        "# Description of store dataset\n",
        "\n",
        "stores_df.describe()"
      ],
      "metadata": {
        "id": "Ngzw7lmIiLSo"
      },
      "execution_count": null,
      "outputs": []
    },
    {
      "cell_type": "markdown",
      "source": [
        "In this dataset no any missing and duplicate values."
      ],
      "metadata": {
        "id": "Nj_4ofIalwyG"
      }
    },
    {
      "cell_type": "markdown",
      "source": [
        "### Dataset Rows & Columns count"
      ],
      "metadata": {
        "id": "7hBIi_osiCS2"
      }
    },
    {
      "cell_type": "code",
      "source": [
        "# Sales Rows & Columns count\n",
        "\n",
        "sales_df.shape"
      ],
      "metadata": {
        "id": "Kllu7SJgmLij"
      },
      "execution_count": null,
      "outputs": []
    },
    {
      "cell_type": "code",
      "source": [
        "# Store Rows & Columns count\n",
        "\n",
        "stores_df.shape"
      ],
      "metadata": {
        "id": "av4jFVUZijbz"
      },
      "execution_count": null,
      "outputs": []
    },
    {
      "cell_type": "markdown",
      "source": [
        "### Dataset Information"
      ],
      "metadata": {
        "id": "JlHwYmJAmNHm"
      }
    },
    {
      "cell_type": "code",
      "source": [
        "# Sales data Info\n",
        "\n",
        "sales_df.info()"
      ],
      "metadata": {
        "id": "e9hRXRi6meOf"
      },
      "execution_count": null,
      "outputs": []
    },
    {
      "cell_type": "code",
      "source": [
        "# Store data Info\n",
        "\n",
        "stores_df.info()"
      ],
      "metadata": {
        "id": "hVXQueMgi00Q"
      },
      "execution_count": null,
      "outputs": []
    },
    {
      "cell_type": "markdown",
      "source": [
        "#### Duplicate Values"
      ],
      "metadata": {
        "id": "35m5QtbWiB9F"
      }
    },
    {
      "cell_type": "code",
      "source": [
        "# Dataset Duplicate Value Count for store and sales dataset\n",
        "\n",
        "a=len(sales_df[sales_df.duplicated()])\n",
        "b=len(stores_df[stores_df.duplicated()])\n",
        "\n",
        "print(\"Duplicate values of sales_df =\",a)\n",
        "print(\"Duplicate values of stores_df =\",b)"
      ],
      "metadata": {
        "id": "1sLdpKYkmox0"
      },
      "execution_count": null,
      "outputs": []
    },
    {
      "cell_type": "markdown",
      "source": [
        "#### Missing Values/Null Values"
      ],
      "metadata": {
        "id": "PoPl-ycgm1ru"
      }
    },
    {
      "cell_type": "code",
      "source": [
        "# Missing Values/Null Values Count for sales data\n",
        "\n",
        "sales_df.isna().sum()"
      ],
      "metadata": {
        "id": "GgHWkxvamxVg"
      },
      "execution_count": null,
      "outputs": []
    },
    {
      "cell_type": "code",
      "source": [
        "# Missing Values/Null Values Count for sales and store data set\n",
        "\n",
        "stores_df.isna().sum()"
      ],
      "metadata": {
        "id": "bMtJpntUkAIY"
      },
      "execution_count": null,
      "outputs": []
    },
    {
      "cell_type": "markdown",
      "source": [
        "We found that in store_df data set many missing values in five different columns.\n",
        "\n",
        "**CompetitionDistance** - Distance in meters to the nearest competitor store, the distribution plot would give us an idea about the distances at which generally the stores are opened and we would impute the values accordingly."
      ],
      "metadata": {
        "id": "cjhjD8emg0MW"
      }
    },
    {
      "cell_type": "markdown",
      "source": [
        "## **3. Data Wrangling**"
      ],
      "metadata": {
        "id": "vhV1CAPeCAVQ"
      }
    },
    {
      "cell_type": "code",
      "source": [
        "#distribution plot of competition distance\n",
        "\n",
        "sns.distplot(x=stores_df['CompetitionDistance'], hist = True, color=\"red\")\n",
        "plt.xlabel('Competition Distance Distribution Plot')"
      ],
      "metadata": {
        "id": "GtJLN10ght2y"
      },
      "execution_count": null,
      "outputs": []
    },
    {
      "cell_type": "markdown",
      "source": [
        "**What all manipulations have you done and insights you found?**"
      ],
      "metadata": {
        "id": "6qvbeo1kCHrn"
      }
    },
    {
      "cell_type": "markdown",
      "source": [
        "It appears that the CompetitionDistance distribution is biassed to the right and that the majority of values are to the left. That means greater resistance to the effects of outliers exists in the median."
      ],
      "metadata": {
        "id": "DSIfsSFsih_4"
      }
    },
    {
      "cell_type": "code",
      "source": [
        "# filling competition distance with the median value\n",
        "\n",
        "stores_df['CompetitionDistance'].fillna(stores_df['CompetitionDistance'].median(), inplace = True)"
      ],
      "metadata": {
        "id": "Webt6DOeikg9"
      },
      "execution_count": null,
      "outputs": []
    },
    {
      "cell_type": "code",
      "source": [
        "# filling Competition Open Since Month / year missing vaules with the most occureing values. i.e. mode of the respective data\n",
        "\n",
        "stores_df['CompetitionOpenSinceMonth'].fillna(stores_df['CompetitionOpenSinceMonth'].mode()[0], inplace = True)\n",
        "stores_df['CompetitionOpenSinceYear'].fillna(stores_df['CompetitionOpenSinceYear'].mode()[0], inplace = True)"
      ],
      "metadata": {
        "id": "Zt6Yj4QYkl8J"
      },
      "execution_count": null,
      "outputs": []
    },
    {
      "cell_type": "code",
      "source": [
        "# filling nan values in Promo2 Since Week, Promo2 Since Year and Promo Interval cloumns with the zero value.\n",
        "\n",
        "stores_df['Promo2SinceWeek'].fillna(value=0, inplace = True)\n",
        "stores_df['Promo2SinceYear'].fillna(value=0, inplace = True)\n",
        "stores_df['PromoInterval'].fillna(value=0, inplace = True)"
      ],
      "metadata": {
        "id": "xL9N2osJl5H9"
      },
      "execution_count": null,
      "outputs": []
    },
    {
      "cell_type": "code",
      "source": [
        "# Missing Values/Null Values Count for sales and store data set\n",
        "\n",
        "stores_df.isna().sum()"
      ],
      "metadata": {
        "id": "Td_fIlRLmm0S"
      },
      "execution_count": null,
      "outputs": []
    },
    {
      "cell_type": "markdown",
      "source": [
        "### What did you know about your dataset?"
      ],
      "metadata": {
        "id": "H0kj-8xxnORC"
      }
    },
    {
      "cell_type": "markdown",
      "source": [
        "We have two different dataset. One is for store and another is for sales in various locations. Based on analysis we found that in sales dataset 1017209 rows and 9 columns, where in stores dataset 1115 rows and 10 columns. Than we try to show descriptive statistical term of both the dataset with help of describe function.\n",
        "\n",
        "We also find null values in stores dataset and try to fill this null values as well.\n",
        "\n",
        "1.   Competition distance columns shows that the distribution skewss in right direction and major values are located toward the left side. So, here we try to fill null valuues with the median and run the command.\n",
        "2.   Similarly fill the Competition Open Since Month / year missing vaules the most repeating month and year."
      ],
      "metadata": {
        "id": "gfoNAAC-nUe_"
      }
    },
    {
      "cell_type": "markdown",
      "source": [
        "# **Merging the two Datasets**"
      ],
      "metadata": {
        "id": "HuI00eHpCX0W"
      }
    },
    {
      "cell_type": "code",
      "source": [
        "# Merge sales dataset woth the stores dataset\n",
        "\n",
        "df = sales_df.merge(right = stores_df, how = \"left\")"
      ],
      "metadata": {
        "id": "RkpZxfVrCUZl"
      },
      "execution_count": null,
      "outputs": []
    },
    {
      "cell_type": "code",
      "source": [
        "# Visualization of the merged dataset\n",
        "\n",
        "df.head()"
      ],
      "metadata": {
        "id": "OnkzcMvIC_rf"
      },
      "execution_count": null,
      "outputs": []
    },
    {
      "cell_type": "code",
      "source": [
        "# Visualization of the merged dataset\n",
        "\n",
        "df.tail()"
      ],
      "metadata": {
        "id": "L4bPCxOb10yj"
      },
      "execution_count": null,
      "outputs": []
    },
    {
      "cell_type": "code",
      "source": [
        "# Shape of the merged dataset\n",
        "\n",
        "df.shape"
      ],
      "metadata": {
        "id": "0svn7G4yD5Jp"
      },
      "execution_count": null,
      "outputs": []
    },
    {
      "cell_type": "code",
      "source": [
        "# Info of the merged dataset\n",
        "\n",
        "df.info()"
      ],
      "metadata": {
        "id": "9KPzo_kFEjYt"
      },
      "execution_count": null,
      "outputs": []
    },
    {
      "cell_type": "code",
      "source": [
        "df.describe()"
      ],
      "metadata": {
        "id": "RWbLVi-z9iSY"
      },
      "execution_count": null,
      "outputs": []
    },
    {
      "cell_type": "code",
      "source": [
        "# Creating a categorical variable column list\n",
        "\n",
        "categorical_variables = ['DayOfWeek','Open','Promo','StateHoliday','SchoolHoliday','StoreType','Assortment','CompetitionOpenSinceMonth',\n",
        "                         'CompetitionOpenSinceYear','Promo2','Promo2SinceWeek','Promo2SinceYear','PromoInterval']"
      ],
      "metadata": {
        "id": "t0qyEOGPEtC6"
      },
      "execution_count": null,
      "outputs": []
    },
    {
      "cell_type": "code",
      "source": [
        "# Checking the unique values involved with the dataset columns\n",
        "\n",
        "for i in categorical_variables:\n",
        "  print(f'Unique values for {i} is : {df[i].unique()}')"
      ],
      "metadata": {
        "id": "A2d-1ec4Gr_O"
      },
      "execution_count": null,
      "outputs": []
    },
    {
      "cell_type": "code",
      "source": [
        "# Change int type in State Holiday\n",
        "\n",
        "df['StateHoliday'].replace({'0':0}, inplace=True)"
      ],
      "metadata": {
        "id": "86G6lQjoITrP"
      },
      "execution_count": null,
      "outputs": []
    },
    {
      "cell_type": "code",
      "source": [
        "# Creating features from the datetime column\n",
        "\n",
        "df['Year'] = df['Date'].dt.year\n",
        "df['Month'] = df['Date'].dt.month\n",
        "df['WeekOfYear'] = df['Date'].dt.weekofyear\n",
        "df['DayOfYear'] = df['Date'].dt.dayofyear\n",
        "years = df['Year'].unique()"
      ],
      "metadata": {
        "id": "fv7kSlZmJLGM"
      },
      "execution_count": null,
      "outputs": []
    },
    {
      "cell_type": "markdown",
      "source": [
        "## ***4. Data Vizualization, Storytelling & Experimenting with charts : Understand the relationships between variables***"
      ],
      "metadata": {
        "id": "GF8Ens_Soomf"
      }
    },
    {
      "cell_type": "markdown",
      "source": [
        "#### Chart - 1"
      ],
      "metadata": {
        "id": "0wOQAZs5pc--"
      }
    },
    {
      "cell_type": "code",
      "source": [
        "# Chart - 1 Categorical variables day of week against sales\n",
        "\n",
        "sns.barplot(x=df[\"DayOfWeek\"], y=df['Sales'])\n",
        "plt.title(\"Sales in a Day\")\n",
        "\n",
        "plt.show()"
      ],
      "metadata": {
        "id": "7v_ESjsspbW7"
      },
      "execution_count": null,
      "outputs": []
    },
    {
      "cell_type": "markdown",
      "source": [
        "##### 1. Why did you pick the specific chart?"
      ],
      "metadata": {
        "id": "K5QZ13OEpz2H"
      }
    },
    {
      "cell_type": "markdown",
      "source": [
        "This graph simply show relation between different day with the sales. Thats the reason i prefere this graph."
      ],
      "metadata": {
        "id": "XESiWehPqBRc"
      }
    },
    {
      "cell_type": "markdown",
      "source": [
        "##### 2. What is/are the insight(s) found from the chart?"
      ],
      "metadata": {
        "id": "lQ7QKXXCp7Bj"
      }
    },
    {
      "cell_type": "markdown",
      "source": [
        "Based on analysis, we found that the 6 days in a week in which store is open and first day (Monday) of the week has a highest sales compare to other. Similarliy on last day (Sunday) of the week, we found that the much lower the sales."
      ],
      "metadata": {
        "id": "C_j1G7yiqdRP"
      }
    },
    {
      "cell_type": "markdown",
      "source": [
        "##### 3. Will the gained insights help creating a positive business impact?\n",
        "Are there any insights that lead to negative growth? Justify with specific reason."
      ],
      "metadata": {
        "id": "448CDAPjqfQr"
      }
    },
    {
      "cell_type": "markdown",
      "source": [
        "Yes. We try to manage as much as stocks during monday so, custmoer setisfaction achive."
      ],
      "metadata": {
        "id": "3cspy4FjqxJW"
      }
    },
    {
      "cell_type": "markdown",
      "source": [
        "#### Chart - 2"
      ],
      "metadata": {
        "id": "KSlN3yHqYklG"
      }
    },
    {
      "cell_type": "code",
      "source": [
        "# Chart - 2 visualization code\n",
        "\n",
        "sns.barplot(x=df[\"Open\"], y=df[\"Sales\"])\n",
        "plt.title(\"Store condition open or close\")\n",
        "\n",
        "plt.show()"
      ],
      "metadata": {
        "id": "R4YgtaqtYklH"
      },
      "execution_count": null,
      "outputs": []
    },
    {
      "cell_type": "markdown",
      "source": [
        "##### 1. Why did you pick the specific chart?"
      ],
      "metadata": {
        "id": "t6dVpIINYklI"
      }
    },
    {
      "cell_type": "markdown",
      "source": [
        "This type of graph use compare of two variable in single window."
      ],
      "metadata": {
        "id": "5aaW0BYyYklI"
      }
    },
    {
      "cell_type": "markdown",
      "source": [
        "##### 2. What is/are the insight(s) found from the chart?"
      ],
      "metadata": {
        "id": "ijmpgYnKYklI"
      }
    },
    {
      "cell_type": "markdown",
      "source": [
        "Store always open during the sales time."
      ],
      "metadata": {
        "id": "PSx9atu2YklI"
      }
    },
    {
      "cell_type": "markdown",
      "source": [
        "##### 3. Will the gained insights help creating a positive business impact?\n",
        "Are there any insights that lead to negative growth? Justify with specific reason."
      ],
      "metadata": {
        "id": "-JiQyfWJYklI"
      }
    },
    {
      "cell_type": "markdown",
      "source": [
        "If try to manage store should open on sunday as well sale may incres and profit as well."
      ],
      "metadata": {
        "id": "BcBbebzrYklV"
      }
    },
    {
      "cell_type": "markdown",
      "source": [
        "#### Chart - 3"
      ],
      "metadata": {
        "id": "EM7whBJCYoAo"
      }
    },
    {
      "cell_type": "code",
      "source": [
        "# Chart - 3 visualization code\n",
        "\n",
        "sns.barplot(x=df[\"Promo\"], y=df[\"Sales\"])\n",
        "plt.title(\"Store Promo\")\n",
        "\n",
        "plt.show()"
      ],
      "metadata": {
        "id": "t6GMdE67YoAp"
      },
      "execution_count": null,
      "outputs": []
    },
    {
      "cell_type": "markdown",
      "source": [
        "##### 1. Why did you pick the specific chart?"
      ],
      "metadata": {
        "id": "fge-S5ZAYoAp"
      }
    },
    {
      "cell_type": "markdown",
      "source": [
        "This type of graph use compare of two variable in single window."
      ],
      "metadata": {
        "id": "5dBItgRVYoAp"
      }
    },
    {
      "cell_type": "markdown",
      "source": [
        "##### 2. What is/are the insight(s) found from the chart?"
      ],
      "metadata": {
        "id": "85gYPyotYoAp"
      }
    },
    {
      "cell_type": "markdown",
      "source": [
        "Results reviled that the from total sales half sale from non promo and remaing half from promo."
      ],
      "metadata": {
        "id": "4jstXR6OYoAp"
      }
    },
    {
      "cell_type": "markdown",
      "source": [
        "##### 3. Will the gained insights help creating a positive business impact?\n",
        "Are there any insights that lead to negative growth? Justify with specific reason."
      ],
      "metadata": {
        "id": "RoGjAbkUYoAp"
      }
    },
    {
      "cell_type": "markdown",
      "source": [
        "Based on that we conclude that need more affort on promo to increase sales."
      ],
      "metadata": {
        "id": "zfJ8IqMcYoAp"
      }
    },
    {
      "cell_type": "markdown",
      "source": [
        "#### Chart - 4"
      ],
      "metadata": {
        "id": "4Of9eVA-YrdM"
      }
    },
    {
      "cell_type": "code",
      "source": [
        "# Chart - 4 visualization code\n",
        "\n",
        "sns.barplot(x=df[\"StateHoliday\"], y=df[\"Sales\"])\n",
        "plt.title(\"Store Promo\")\n",
        "\n",
        "plt.show()"
      ],
      "metadata": {
        "id": "irlUoxc8YrdO"
      },
      "execution_count": null,
      "outputs": []
    },
    {
      "cell_type": "markdown",
      "source": [
        "##### 1. Why did you pick the specific chart?"
      ],
      "metadata": {
        "id": "iky9q4vBYrdO"
      }
    },
    {
      "cell_type": "markdown",
      "source": [
        "This type of graph use compare of two variable in single window."
      ],
      "metadata": {
        "id": "aJRCwT6DYrdO"
      }
    },
    {
      "cell_type": "markdown",
      "source": [
        "##### 2. What is/are the insight(s) found from the chart?"
      ],
      "metadata": {
        "id": "F6T5p64dYrdO"
      }
    },
    {
      "cell_type": "markdown",
      "source": [
        "Normally all stores, with few exceptions, are closed on state holidays. Note that all schools are closed on public holidays and weekends. a = public holiday, b = Easter holiday, c = Christmas, 0 = None. Lowest of Sales were seen on state holidays especially on Christmas."
      ],
      "metadata": {
        "id": "Xx8WAJvtYrdO"
      }
    },
    {
      "cell_type": "markdown",
      "source": [
        "#### Chart - 5"
      ],
      "metadata": {
        "id": "bamQiAODYuh1"
      }
    },
    {
      "cell_type": "code",
      "source": [
        "# Chart - 5 visualization code\n",
        "\n",
        "sns.barplot(x=df[\"SchoolHoliday\"], y=df[\"Sales\"])\n",
        "plt.title(\"Store Promo\")\n",
        "\n",
        "plt.show()"
      ],
      "metadata": {
        "id": "TIJwrbroYuh3"
      },
      "execution_count": null,
      "outputs": []
    },
    {
      "cell_type": "markdown",
      "source": [
        "##### 1. Why did you pick the specific chart?"
      ],
      "metadata": {
        "id": "QHF8YVU7Yuh3"
      }
    },
    {
      "cell_type": "markdown",
      "source": [
        "This type of graph use compare of two variable in single window."
      ],
      "metadata": {
        "id": "dcxuIMRPYuh3"
      }
    },
    {
      "cell_type": "markdown",
      "source": [
        "##### 2. What is/are the insight(s) found from the chart?"
      ],
      "metadata": {
        "id": "GwzvFGzlYuh3"
      }
    },
    {
      "cell_type": "markdown",
      "source": [
        "More stores were open on School Holidays than on State Holidays and hence had more sales than State Holidays."
      ],
      "metadata": {
        "id": "uyqkiB8YYuh3"
      }
    },
    {
      "cell_type": "markdown",
      "source": [
        "#### Chart - 6"
      ],
      "metadata": {
        "id": "OH-pJp9IphqM"
      }
    },
    {
      "cell_type": "code",
      "source": [
        "# Chart - 6 visualization code\n",
        "\n",
        "sns.barplot(x=df[\"StoreType\"], y=df[\"Sales\"])\n",
        "plt.title(\"Sales based on Store Type\")\n",
        "\n",
        "plt.show()"
      ],
      "metadata": {
        "id": "kuRf4wtuphqN"
      },
      "execution_count": null,
      "outputs": []
    },
    {
      "cell_type": "markdown",
      "source": [
        "##### 1. Why did you pick the specific chart?"
      ],
      "metadata": {
        "id": "bbFf2-_FphqN"
      }
    },
    {
      "cell_type": "markdown",
      "source": [
        "This type of graph use compare of two variable in single window."
      ],
      "metadata": {
        "id": "loh7H2nzphqN"
      }
    },
    {
      "cell_type": "markdown",
      "source": [
        "##### 2. What is/are the insight(s) found from the chart?"
      ],
      "metadata": {
        "id": "_ouA3fa0phqN"
      }
    },
    {
      "cell_type": "markdown",
      "source": [
        "Compare all stores on an average store b has highest sales. While remaing three has same sales."
      ],
      "metadata": {
        "id": "VECbqPI7phqN"
      }
    },
    {
      "cell_type": "markdown",
      "source": [
        "##### 3. Will the gained insights help creating a positive business impact?\n",
        "Are there any insights that lead to negative growth? Justify with specific reason."
      ],
      "metadata": {
        "id": "Seke61FWphqN"
      }
    },
    {
      "cell_type": "markdown",
      "source": [
        "Need to focus on store a, c and d to increase sales as well by promotion its product in market or by applying good offer to customners."
      ],
      "metadata": {
        "id": "DW4_bGpfphqN"
      }
    },
    {
      "cell_type": "markdown",
      "source": [
        "#### Chart - 7"
      ],
      "metadata": {
        "id": "PIIx-8_IphqN"
      }
    },
    {
      "cell_type": "code",
      "source": [
        "# Chart - 7 visualization code\n",
        "\n",
        "sns.barplot(x=df[\"Assortment\"], y=df[\"Sales\"])\n",
        "plt.title(\"Sales based on Store Type\")\n",
        "\n",
        "plt.show()"
      ],
      "metadata": {
        "id": "lqAIGUfyphqO"
      },
      "execution_count": null,
      "outputs": []
    },
    {
      "cell_type": "markdown",
      "source": [
        "##### 1. Why did you pick the specific chart?"
      ],
      "metadata": {
        "id": "t27r6nlMphqO"
      }
    },
    {
      "cell_type": "markdown",
      "source": [
        "This type of graph use compare of two variable in single window."
      ],
      "metadata": {
        "id": "iv6ro40sphqO"
      }
    },
    {
      "cell_type": "markdown",
      "source": [
        "##### 2. What is/are the insight(s) found from the chart?"
      ],
      "metadata": {
        "id": "r2jJGEOYphqO"
      }
    },
    {
      "cell_type": "markdown",
      "source": [
        "Highest level assortment in level b (Extra) followed by c and a."
      ],
      "metadata": {
        "id": "Po6ZPi4hphqO"
      }
    },
    {
      "cell_type": "markdown",
      "source": [
        "#### Chart - 8"
      ],
      "metadata": {
        "id": "BZR9WyysphqO"
      }
    },
    {
      "cell_type": "code",
      "source": [
        "# Chart - 8 visualization code\n",
        "\n",
        "sns.barplot(x=df[\"CompetitionOpenSinceMonth\"], y=df[\"Sales\"])\n",
        "plt.title(\"Sales based on Store Type\")\n",
        "\n",
        "plt.show()"
      ],
      "metadata": {
        "id": "TdPTWpAVphqO"
      },
      "execution_count": null,
      "outputs": []
    },
    {
      "cell_type": "markdown",
      "source": [
        "##### 1. Why did you pick the specific chart?"
      ],
      "metadata": {
        "id": "jj7wYXLtphqO"
      }
    },
    {
      "cell_type": "markdown",
      "source": [
        "This type of graph use compare of two variable in single window."
      ],
      "metadata": {
        "id": "Ob8u6rCTphqO"
      }
    },
    {
      "cell_type": "markdown",
      "source": [
        "##### 2. What is/are the insight(s) found from the chart?"
      ],
      "metadata": {
        "id": "eZrbJ2SmphqO"
      }
    },
    {
      "cell_type": "markdown",
      "source": [
        "Total sales before compition around 8000, than when compittiter comes in markest sale may slight decreases. On monthly sacale sales may vary, but on an avergae higher sales found during 5 and 6 months."
      ],
      "metadata": {
        "id": "mZtgC_hjphqO"
      }
    },
    {
      "cell_type": "markdown",
      "source": [
        "##### 3. Will the gained insights help creating a positive business impact?\n",
        "Are there any insights that lead to negative growth? Justify with specific reason."
      ],
      "metadata": {
        "id": "rFu4xreNphqO"
      }
    },
    {
      "cell_type": "markdown",
      "source": [
        "Store owner need to more focus on give cetisfaction to customers by giving good product, servivces and best offers as well."
      ],
      "metadata": {
        "id": "ey_0qi68phqO"
      }
    },
    {
      "cell_type": "markdown",
      "source": [
        "#### Chart - 9"
      ],
      "metadata": {
        "id": "YJ55k-q6phqO"
      }
    },
    {
      "cell_type": "code",
      "source": [
        "# Chart - 9 visualization code\n",
        "\n",
        "sns.barplot(x=df[\"Promo2\"], y=df[\"Sales\"])\n",
        "plt.title(\"Sales based on Promo2\")\n",
        "\n",
        "plt.show()"
      ],
      "metadata": {
        "id": "B2aS4O1ophqO"
      },
      "execution_count": null,
      "outputs": []
    },
    {
      "cell_type": "markdown",
      "source": [
        "##### 1. Why did you pick the specific chart?"
      ],
      "metadata": {
        "id": "gCFgpxoyphqP"
      }
    },
    {
      "cell_type": "markdown",
      "source": [
        "This type of graph use compare of two variable in single window."
      ],
      "metadata": {
        "id": "TVxDimi2phqP"
      }
    },
    {
      "cell_type": "markdown",
      "source": [
        "##### 2. What is/are the insight(s) found from the chart?"
      ],
      "metadata": {
        "id": "OVtJsKN_phqQ"
      }
    },
    {
      "cell_type": "markdown",
      "source": [
        "With Promo2, slightly more sales were seen without it which indicates there are many stores not participating in promo."
      ],
      "metadata": {
        "id": "ngGi97qjphqQ"
      }
    },
    {
      "cell_type": "markdown",
      "source": [
        "#### Chart - 10"
      ],
      "metadata": {
        "id": "U2RJ9gkRphqQ"
      }
    },
    {
      "cell_type": "code",
      "source": [
        "# Chart - 10 visualization code\n",
        "\n",
        "sns.barplot(x=df[\"Promo2SinceYear\"], y=df[\"Sales\"])\n",
        "plt.title(\"Sales based on Promo2 since year\")\n",
        "\n",
        "plt.show()"
      ],
      "metadata": {
        "id": "GM7a4YP4phqQ"
      },
      "execution_count": null,
      "outputs": []
    },
    {
      "cell_type": "markdown",
      "source": [
        "##### 1. Why did you pick the specific chart?"
      ],
      "metadata": {
        "id": "1M8mcRywphqQ"
      }
    },
    {
      "cell_type": "markdown",
      "source": [
        "This type of graph use compare of two variable in single window."
      ],
      "metadata": {
        "id": "8agQvks0phqQ"
      }
    },
    {
      "cell_type": "markdown",
      "source": [
        "##### 2. What is/are the insight(s) found from the chart?"
      ],
      "metadata": {
        "id": "tgIPom80phqQ"
      }
    },
    {
      "cell_type": "markdown",
      "source": [
        "Here, we shows that the starting year shows zero value, whiuch indicates  that the some eroor in data points. But store strat promotion since 2009 to 2015 and 2014 year has higest sales in store. Overall trend indicates that the stores sales decreasing trend except 2014 year."
      ],
      "metadata": {
        "id": "Qp13pnNzphqQ"
      }
    },
    {
      "cell_type": "markdown",
      "source": [
        "##### 3. Will the gained insights help creating a positive business impact?\n",
        "Are there any insights that lead to negative growth? Justify with specific reason."
      ],
      "metadata": {
        "id": "JMzcOPDDphqR"
      }
    },
    {
      "cell_type": "markdown",
      "source": [
        "Learn from 2014 year for sales and marketing stretegies and apply to upcoming year to increase profite of stores."
      ],
      "metadata": {
        "id": "R4Ka1PC2phqR"
      }
    },
    {
      "cell_type": "markdown",
      "source": [
        "#### Chart - 11"
      ],
      "metadata": {
        "id": "x-EpHcCOp1ci"
      }
    },
    {
      "cell_type": "code",
      "source": [
        "# Chart - 11 visualization code\n",
        "\n",
        "sns.barplot(x=df[\"PromoInterval\"], y=df[\"Sales\"])\n",
        "plt.title(\"Sales based Promo Interval\")\n",
        "\n",
        "plt.show()"
      ],
      "metadata": {
        "id": "mAQTIvtqp1cj"
      },
      "execution_count": null,
      "outputs": []
    },
    {
      "cell_type": "markdown",
      "source": [
        "##### 1. Why did you pick the specific chart?"
      ],
      "metadata": {
        "id": "X_VqEhTip1ck"
      }
    },
    {
      "cell_type": "markdown",
      "source": [
        "This type of graph use compare of two variable in single window."
      ],
      "metadata": {
        "id": "-vsMzt_np1ck"
      }
    },
    {
      "cell_type": "markdown",
      "source": [
        "##### 2. What is/are the insight(s) found from the chart?"
      ],
      "metadata": {
        "id": "8zGJKyg5p1ck"
      }
    },
    {
      "cell_type": "markdown",
      "source": [
        "Here, first promotion interval has higest sales compare to other intervals. This indicates effort done by this interval is good and it is benifited for the store sales."
      ],
      "metadata": {
        "id": "ZYdMsrqVp1ck"
      }
    },
    {
      "cell_type": "markdown",
      "source": [
        "#### Chart - 12"
      ],
      "metadata": {
        "id": "n3dbpmDWp1ck"
      }
    },
    {
      "cell_type": "code",
      "source": [
        "# Chart - 12 visualization code\n",
        "\n",
        "sns.barplot(x=df[\"Open\"], y=df[\"Sales\"], hue=df[\"DayOfWeek\"])\n",
        "plt.title(\"Sales of each day in week\")\n",
        "plt.show()"
      ],
      "metadata": {
        "id": "bwevp1tKp1ck"
      },
      "execution_count": null,
      "outputs": []
    },
    {
      "cell_type": "markdown",
      "source": [],
      "metadata": {
        "id": "u0JSVpo30w5Q"
      }
    },
    {
      "cell_type": "markdown",
      "source": [
        "##### 1. Why did you pick the specific chart?"
      ],
      "metadata": {
        "id": "ylSl6qgtp1ck"
      }
    },
    {
      "cell_type": "markdown",
      "source": [
        "This type of graph use compare of two variable in single window."
      ],
      "metadata": {
        "id": "m2xqNkiQp1ck"
      }
    },
    {
      "cell_type": "markdown",
      "source": [
        "##### 2. What is/are the insight(s) found from the chart?"
      ],
      "metadata": {
        "id": "ZWILFDl5p1ck"
      }
    },
    {
      "cell_type": "markdown",
      "source": [
        "Graph clearly shows that the no sales during close period and sales start when store open. During whole week sales is highest  on first and last day of week."
      ],
      "metadata": {
        "id": "x-lUsV2mp1ck"
      }
    },
    {
      "cell_type": "markdown",
      "source": [
        "#### Chart - 13"
      ],
      "metadata": {
        "id": "Ag9LCva-p1cl"
      }
    },
    {
      "cell_type": "code",
      "source": [
        "# Chart - 13 visualization code\n",
        "\n",
        "sns.countplot(x=df[\"Open\"], hue=df[\"DayOfWeek\"])\n",
        "plt.title(\"Shops are open on which days\")\n",
        "plt.show()"
      ],
      "metadata": {
        "id": "EUfxeq9-p1cl"
      },
      "execution_count": null,
      "outputs": []
    },
    {
      "cell_type": "markdown",
      "source": [
        "##### 1. Why did you pick the specific chart?"
      ],
      "metadata": {
        "id": "E6MkPsBcp1cl"
      }
    },
    {
      "cell_type": "markdown",
      "source": [
        "This is a count plot of open shops according to the day of the week to find total number in each category."
      ],
      "metadata": {
        "id": "V22bRsFWp1cl"
      }
    },
    {
      "cell_type": "markdown",
      "source": [
        "##### 2. What is/are the insight(s) found from the chart?"
      ],
      "metadata": {
        "id": "2cELzS2fp1cl"
      }
    },
    {
      "cell_type": "markdown",
      "source": [
        "It's clear that the number of shops open on Sundays were very less and hence low sales. Some shops were closed on weekdays as well accounting to the stores closed due to refurbishment or holidays."
      ],
      "metadata": {
        "id": "ozQPc2_Ip1cl"
      }
    },
    {
      "cell_type": "code",
      "source": [
        "sns.barplot(x=df[\"StoreType\"], y=df[\"Sales\"], hue=df[\"Assortment\"], color=\"green\")\n",
        "plt.title(\"Relationship between store type, assortment levels and sales\")\n",
        "plt.show()"
      ],
      "metadata": {
        "id": "JLvTOqrg232f"
      },
      "execution_count": null,
      "outputs": []
    },
    {
      "cell_type": "markdown",
      "source": [
        "The above bar plot shows that the store types a, c and d have only assortment level a and c. On the other hand the store type b has all the three kinds of assortment strategies, a reason why average sales were high for store type b stores."
      ],
      "metadata": {
        "id": "njneTBID6vIL"
      }
    },
    {
      "cell_type": "code",
      "source": [
        "# Exploration about store type and its total sales & coustemers.\n",
        "\n",
        "store_type = df.groupby(\"StoreType\") [\"Sales\",\"Customers\"].sum().reset_index()\n",
        "store_type.sort_values([\"Sales\",\"Customers\"], ascending = False, inplace = True)\n",
        "store_type"
      ],
      "metadata": {
        "id": "mrDOzv_269dw"
      },
      "execution_count": null,
      "outputs": []
    },
    {
      "cell_type": "code",
      "source": [
        "# Try to explore store type a bit and it's influence on sales\n",
        "\n",
        "# add colors\n",
        "colors = ['#ff9999','#66b3ff','#99ff99','#ffcc99']\n",
        "\n",
        "# plot pie chart\n",
        "fig1, ax1 = plt.subplots()\n",
        "df.groupby(\"StoreType\") [\"Sales\"].sum().plot.pie(title = \"Sales influences on all store types\", legend = True, autopct='%1.1f%%', colors = colors)\n",
        "\n",
        "# draw circle\n",
        "centre_circle = plt.Circle((0,0),0.70,fc='white')\n",
        "fig = plt.gcf()\n",
        "fig.gca().add_artist(centre_circle)\n",
        "\n",
        "# Equal aspect ratio ensures that pie is drawn as a circle\n",
        "ax1.axis('equal')\n",
        "plt.tight_layout()\n",
        "plt.show()"
      ],
      "metadata": {
        "id": "UmfZo5lcpA9i"
      },
      "execution_count": null,
      "outputs": []
    },
    {
      "cell_type": "code",
      "source": [
        "# Try to explore store type a bit and it's influence on customers\n",
        "\n",
        "# add colors\n",
        "colors = ['#ff9999','#66b3ff','#99ff99','#ffcc99']\n",
        "\n",
        "# plot pie chart\n",
        "fig1, ax1 = plt.subplots()\n",
        "df.groupby(\"StoreType\") [\"Customers\"].sum().plot.pie(title = \"Customers influences on all store types\", legend = True, autopct='%1.1f%%', colors = colors)\n",
        "\n",
        "# draw circle\n",
        "centre_circle = plt.Circle((0,0),0.70,fc='white')\n",
        "fig = plt.gcf()\n",
        "fig.gca().add_artist(centre_circle)\n",
        "\n",
        "# Equal aspect ratio ensures that pie is drawn as a circle\n",
        "ax1.axis('equal')\n",
        "plt.tight_layout()\n",
        "plt.show()"
      ],
      "metadata": {
        "id": "FOAU_v3ppEPv"
      },
      "execution_count": null,
      "outputs": []
    },
    {
      "cell_type": "code",
      "source": [
        "# Try to explore store type a bit and it's influence on promotiopn\n",
        "\n",
        "# add colors\n",
        "colors = ['#ff9999','#66b3ff','#99ff99','#ffcc99']\n",
        "\n",
        "# plot pie chart\n",
        "fig1, ax1 = plt.subplots()\n",
        "df.groupby(\"StoreType\") [\"Promo\"].sum().plot.pie(title = \"Promotion influences on all store types\", legend = True, autopct='%1.1f%%', colors = colors)\n",
        "\n",
        "# draw circle\n",
        "centre_circle = plt.Circle((0,0),0.70,fc='white')\n",
        "fig = plt.gcf()\n",
        "fig.gca().add_artist(centre_circle)\n",
        "\n",
        "# Equal aspect ratio ensures that pie is drawn as a circle\n",
        "ax1.axis('equal')\n",
        "plt.tight_layout()\n",
        "plt.show()"
      ],
      "metadata": {
        "id": "W4M3IkNVHm42"
      },
      "execution_count": null,
      "outputs": []
    },
    {
      "cell_type": "markdown",
      "source": [
        "A bar plot shows the height of each rectangle as an estimate of central tendency for a numerical variable. Because the default estimation function for the barplot is mean, it was previously observed that store type B had the highest average sales.\n",
        "\n",
        "But after more investigation, it became evident that the store type a had the largest sales since there were so many type a retailers in our dataset. Sales and customer share for stores of types A and C were comparable.\n",
        "\n",
        "Interesting insight to note is that store type b with highest average sales and per store revenue generation looks healthy and a reason for that would be all three kinds of assortment strategies involved which was seen earlier."
      ],
      "metadata": {
        "id": "5gCXUPG-IKQE"
      }
    },
    {
      "cell_type": "code",
      "source": [
        "# years in dataset\n",
        "years"
      ],
      "metadata": {
        "id": "42yUq8wx3Bka"
      },
      "execution_count": null,
      "outputs": []
    },
    {
      "cell_type": "code",
      "source": [
        "# sales over the different years\n",
        "\n",
        "sales_df_2013 = df[df['Year'] == 2013]\n",
        "sales_df_2014 = df[df['Year'] == 2014]\n",
        "sales_df_2015 = df[df['Year'] == 2015]"
      ],
      "metadata": {
        "id": "4GBRSYGf5XgC"
      },
      "execution_count": null,
      "outputs": []
    },
    {
      "cell_type": "code",
      "source": [
        "# Sales over various month\n",
        "\n",
        "sales_2013 = sales_df_2013.groupby(\"Month\").sum().reset_index()\n",
        "sales_2014 = sales_df_2014.groupby(\"Month\").sum().reset_index()\n",
        "sales_2015 = sales_df_2015.groupby(\"Month\").sum().reset_index()"
      ],
      "metadata": {
        "id": "c_tYUOX65kvx"
      },
      "execution_count": null,
      "outputs": []
    },
    {
      "cell_type": "code",
      "source": [
        "# Line graph compariosion for various maonthl;y sales\n",
        "\n",
        "plt.plot(sales_2013.loc[:,'Sales'], label = \"2013\", color = \"red\")\n",
        "plt.plot(sales_2014.loc[:,'Sales'], label = \"2014\", color = \"green\")\n",
        "plt.plot(sales_2015.loc[:,'Sales'], label = \"2015\", color = \"blue\")\n",
        "plt.title('Monthly Sales Over Years')\n",
        "plt.legend()"
      ],
      "metadata": {
        "id": "8fXBoUJ56DHe"
      },
      "execution_count": null,
      "outputs": []
    },
    {
      "cell_type": "markdown",
      "source": [
        "Based on data we found that their is peak at every 2 month interval for february and june month in all dataset. Which indicates sales during this months is increasing on all years.\n",
        "\n",
        "Sales increase up by the end of the year before the holidays.\n",
        "\n",
        "Sales for 2014 went down there for a couple months - July to September, indicating stores closed due to refurbishment."
      ],
      "metadata": {
        "id": "TeN2ZwsuIoTp"
      }
    },
    {
      "cell_type": "code",
      "source": [
        "# Scatter plot between customers and sales\n",
        "\n",
        "sns.scatterplot(x = df[\"Customers\"], y = df[\"Sales\"], color='green')"
      ],
      "metadata": {
        "id": "1UZGeXWgIjgk"
      },
      "execution_count": null,
      "outputs": []
    },
    {
      "cell_type": "markdown",
      "source": [
        "Relation give positive outcome. It indicates as the number of customers increase total sales of stotre als incresing."
      ],
      "metadata": {
        "id": "Fo3S6c9kNkHJ"
      }
    },
    {
      "cell_type": "code",
      "source": [
        "# scatterplot of Competition Distance and Sales\n",
        "\n",
        "sns.scatterplot(x=df['CompetitionDistance'], y=df['Sales'], color='red')"
      ],
      "metadata": {
        "id": "wc7Bt1ygpol0"
      },
      "execution_count": null,
      "outputs": []
    },
    {
      "cell_type": "markdown",
      "source": [
        "From the above scatter plot we found that the as the near the stores or more the store density higher the sales. Lesser store density or far away store means less sales."
      ],
      "metadata": {
        "id": "sgnEZcTspzAR"
      }
    },
    {
      "cell_type": "code",
      "source": [
        "# distribution plot of Sales, as expected positively skewed\n",
        "\n",
        "sns.distplot(x=df['Sales'], color='green')"
      ],
      "metadata": {
        "id": "NyjPqP9UqRto"
      },
      "execution_count": null,
      "outputs": []
    },
    {
      "cell_type": "markdown",
      "source": [
        "This plot shows that the sales data has right skewed distribution. The drop in sales indicates the 0 sales accounting to the stores temporarily closed due to refurbishment. This drop was also seen in the Sales over the years plot earlier."
      ],
      "metadata": {
        "id": "N_r8PfqwqxMb"
      }
    },
    {
      "cell_type": "markdown",
      "source": [
        "#### Chart - 14 - Correlation Heatmap"
      ],
      "metadata": {
        "id": "NC_X3p0fY2L0"
      }
    },
    {
      "cell_type": "code",
      "source": [
        "# Use only meaningful numeric columns, let's drop the unnecessary to get a clear picture\n",
        "\n",
        "columns_to_drop = ['Store', 'Year', 'WeekOfYear', 'DayOfYear']\n",
        "corr_df = df.drop(columns = columns_to_drop, axis =1)\n",
        "corr_df['StateHoliday'].replace({'a':1, 'b':1,'c':1}, inplace=True)"
      ],
      "metadata": {
        "id": "PTqNqPQ0rbyG"
      },
      "execution_count": null,
      "outputs": []
    },
    {
      "cell_type": "code",
      "source": [
        "# Correlation Heatmap visualization code\n",
        "\n",
        "x = corr_df.corr()\n",
        "plt.figure(figsize=(15,12))\n",
        "sns.heatmap(x, cmap=\"YlOrBr\", annot=True)"
      ],
      "metadata": {
        "id": "xyC9zolEZNRQ"
      },
      "execution_count": null,
      "outputs": []
    },
    {
      "cell_type": "markdown",
      "source": [
        "##### 2. What is/are the insight(s) found from the chart?"
      ],
      "metadata": {
        "id": "YPEH6qLeZNRQ"
      }
    },
    {
      "cell_type": "markdown",
      "source": [
        "State Holiday has a negative correlation suggesting that stores are mostly closed on state holidays indicating low sales.\n",
        "\n",
        "CompetitionDistance showing negative correlation suggests that as the distance increases sales reduce, which was also observed through the scatterplot earlier.\n",
        "\n",
        "\n",
        "Day of the week has a negative correlation indicating low sales as the weekends, and promo, customers and open has positive correlation.\n",
        "\n",
        "The correlation matrix is agreeing with all the observations done earlier while exploring through barplots and scatterplots.\n",
        "\n",
        "One set of bunch of sales, promo, customers and open has colinearity to each other, while another set of bunch of promo2, promo2sinceyear and promo2sinceweek also colinar in nature with respect to each other."
      ],
      "metadata": {
        "id": "bfSqtnDqZNRR"
      }
    },
    {
      "cell_type": "markdown",
      "source": [
        "## ***5. Hypothesis Testing***"
      ],
      "metadata": {
        "id": "g-ATYxFrGrvw"
      }
    },
    {
      "cell_type": "markdown",
      "source": [
        "### Based on your chart experiments, define three hypothetical statements from the dataset. In the next three questions, perform hypothesis testing to obtain final conclusion about the statements through your code and statistical testing."
      ],
      "metadata": {
        "id": "Yfr_Vlr8HBkt"
      }
    },
    {
      "cell_type": "markdown",
      "source": [
        "Answer Here."
      ],
      "metadata": {
        "id": "-7MS06SUHkB-"
      }
    },
    {
      "cell_type": "markdown",
      "source": [
        "### Hypothetical Statement - 1"
      ],
      "metadata": {
        "id": "8yEUt7NnHlrM"
      }
    },
    {
      "cell_type": "markdown",
      "source": [
        "#### 1. State Your research hypothesis as a null hypothesis and alternate hypothesis."
      ],
      "metadata": {
        "id": "tEA2Xm5dHt1r"
      }
    },
    {
      "cell_type": "markdown",
      "source": [
        "Average sales of the stores is less than 5000.\n",
        "\n",
        "Ho - < 4500\n",
        "\n",
        "Ha - > 4500"
      ],
      "metadata": {
        "id": "HI9ZP0laH0D-"
      }
    },
    {
      "cell_type": "markdown",
      "source": [
        "#### 2. Perform an appropriate statistical test."
      ],
      "metadata": {
        "id": "I79__PHVH19G"
      }
    },
    {
      "cell_type": "code",
      "source": [
        "# extract sales column from dataset and try to find shape of the sales\n",
        "sales = pd.DataFrame(df, columns = ['Sales'])\n",
        "\n",
        "sales.shape"
      ],
      "metadata": {
        "id": "sHPt2ayn5lWi"
      },
      "execution_count": null,
      "outputs": []
    },
    {
      "cell_type": "code",
      "source": [
        "# mean of the sales\n",
        "sales.mean()"
      ],
      "metadata": {
        "id": "EneSkNVs6GVp"
      },
      "execution_count": null,
      "outputs": []
    },
    {
      "cell_type": "code",
      "source": [
        "# standard deviation of sales\n",
        "sales.std()"
      ],
      "metadata": {
        "id": "60WGWbTf7UWa"
      },
      "execution_count": null,
      "outputs": []
    },
    {
      "cell_type": "code",
      "source": [
        "# convert sales data into list formate\n",
        "\n",
        "sales_list = df[\"Sales\"].tolist()"
      ],
      "metadata": {
        "id": "9E70ERZmH9Ru"
      },
      "execution_count": null,
      "outputs": []
    },
    {
      "cell_type": "code",
      "source": [
        "# choose random sample from sales dataset (sample size is 1000)\n",
        "\n",
        "import random\n",
        "random_sample = random.sample(sales_list, 200)\n",
        "random_samples = pd.DataFrame(random_sample)"
      ],
      "metadata": {
        "id": "tVB3ixifI4os"
      },
      "execution_count": null,
      "outputs": []
    },
    {
      "cell_type": "code",
      "source": [
        "random_samples.mean()"
      ],
      "metadata": {
        "id": "s5UK8XbTLbO9"
      },
      "execution_count": null,
      "outputs": []
    },
    {
      "cell_type": "code",
      "source": [
        "def calculate_z_score(value, random_samples):\n",
        "    mean = random_samples.mean()\n",
        "    std_dev = random_samples.std()\n",
        "    square_root = math.sqrt(len(random_sample))\n",
        "    z_score = (mean - value) / (std_dev / square_root)\n",
        "    return z_score"
      ],
      "metadata": {
        "id": "k8iUJnqECtOI"
      },
      "execution_count": null,
      "outputs": []
    },
    {
      "cell_type": "code",
      "source": [
        "average_sales = 4500\n",
        "\n",
        "z_score = calculate_z_score(average_sales, random_samples)\n",
        "print(\"Z-Score:\", z_score)"
      ],
      "metadata": {
        "id": "LdYDnnnT_6f0"
      },
      "execution_count": null,
      "outputs": []
    },
    {
      "cell_type": "code",
      "source": [
        "# We can calculate p-value\n",
        "\n",
        "prob_z = norm.cdf(z_score)\n",
        "print(prob_z)"
      ],
      "metadata": {
        "id": "p-svB7DcBALu"
      },
      "execution_count": null,
      "outputs": []
    },
    {
      "cell_type": "code",
      "source": [
        "P_value = 1 - prob_z\n",
        "print(P_value)"
      ],
      "metadata": {
        "id": "IjKX143XBWvh"
      },
      "execution_count": null,
      "outputs": []
    },
    {
      "cell_type": "markdown",
      "source": [
        "##### Which statistical test have you done to obtain P-Value?"
      ],
      "metadata": {
        "id": "Ou-I18pAyIpj"
      }
    },
    {
      "cell_type": "markdown",
      "source": [
        "Here, we use z scroe to find p value for hypothesis testing.\n",
        "\n",
        "Based on observation, we reject the null hypothesis."
      ],
      "metadata": {
        "id": "s2U0kk00ygSB"
      }
    },
    {
      "cell_type": "markdown",
      "source": [
        "## ***6. Feature Engineering & Data Pre-processing***"
      ],
      "metadata": {
        "id": "yLjJCtPM0KBk"
      }
    },
    {
      "cell_type": "markdown",
      "source": [
        "### 1. Handling Missing Values"
      ],
      "metadata": {
        "id": "xiyOF9F70UgQ"
      }
    },
    {
      "cell_type": "markdown",
      "source": [
        "It is mentioned in the problem statement that some stores were temporarily closed for refurbishment and hence did not generate any sales. This was also indicated in the barplot of Open vs Sales."
      ],
      "metadata": {
        "id": "sKFTyfTOwpx6"
      }
    },
    {
      "cell_type": "code",
      "source": [
        "# Handling Missing Values & Missing Value Imputation\n",
        "\n",
        "# since the stores closed had 0 sale value; removing the irrelevant part\n",
        "\n",
        "df1 = df[df.Open != 0]\n",
        "df1.drop('Open', axis=1, inplace=True)\n",
        "\n",
        "df1.head()"
      ],
      "metadata": {
        "id": "iRsAHk1K0fpS"
      },
      "execution_count": null,
      "outputs": []
    },
    {
      "cell_type": "markdown",
      "source": [
        "#### What all missing value imputation techniques have you used and why did you use those techniques?"
      ],
      "metadata": {
        "id": "7wuGOrhz0itI"
      }
    },
    {
      "cell_type": "markdown",
      "source": [
        "In given data set many variable has zero value, with help of drop function we try to remove non usefull values.\n",
        "\n",
        "In store data set has aslo many nonnull values, we try to solve this error with help of various statistical indicatores (Mean, Mode, Median)."
      ],
      "metadata": {
        "id": "1ixusLtI0pqI"
      }
    },
    {
      "cell_type": "code",
      "source": [
        "# distribution plot of Sales, as expected positively skewed\n",
        "\n",
        "sns.distplot(x=df1['Sales'], color = \"red\")"
      ],
      "metadata": {
        "id": "RPVbpYxvxeW6"
      },
      "execution_count": null,
      "outputs": []
    },
    {
      "cell_type": "markdown",
      "source": [
        "# **Data Transformation**"
      ],
      "metadata": {
        "id": "Ate40vsOvZYH"
      }
    },
    {
      "cell_type": "code",
      "source": [
        "# transformation\n",
        "\n",
        "df1['Sales'] = np.log(df1['Sales'])\n",
        "\n",
        "df1.dropna(inplace=True)\n",
        "\n",
        "df1.drop(df1[df1['Sales'] == float(\"-inf\")].index,inplace=True)\n",
        "\n",
        "sns.distplot(x=df1['Sales'])"
      ],
      "metadata": {
        "id": "nBkO1jHNySXF"
      },
      "execution_count": null,
      "outputs": []
    },
    {
      "cell_type": "markdown",
      "source": [
        "### 2. Handling Outliers"
      ],
      "metadata": {
        "id": "id1riN9m0vUs"
      }
    },
    {
      "cell_type": "markdown",
      "source": [
        "**What all outlier treatment techniques have you used and why did you use those techniques?**"
      ],
      "metadata": {
        "id": "ED3z1DkHW5Yw"
      }
    },
    {
      "cell_type": "markdown",
      "source": [
        "In statistics, an outlier is a data point that differs significantly from other observations. Outliers can occur by chance in any distribution, but they often indicate either measurement error or that the population has a heavy-tailed distribution.\n",
        "\n",
        "Z-score is a statistical measure that tells you how far is a data point from the rest of the dataset. In a more technical term, Z-score tells how many standard deviations away a given observation is from the mean.\n",
        "\n",
        "z = (x-mean)/standard deviation"
      ],
      "metadata": {
        "id": "RqgS1ZUkSjRh"
      }
    },
    {
      "cell_type": "code",
      "source": [
        "# Handling Outliers & Outlier treatments\n",
        "\n",
        "# mean of sales\n",
        "sales_mean = np.mean(df[\"Sales\"])\n",
        "\n",
        "# standard deviation of sales\n",
        "sales_std = np.std(df[\"Sales\"])\n",
        "\n",
        "# we more than 3 threshold is consider as outlier\n",
        "threshold = 3\n",
        "outliers = []\n",
        "\n",
        "for value in df1[\"Sales\"]:\n",
        "  z_score = (value - sales_mean)/sales_std\n",
        "  if z_score > threshold:\n",
        "    outliers.append(value)\n",
        "\n",
        "#total no of outliers\n",
        "print(f'Total number of Outliers present in the Sales column are {len(outliers)}.')"
      ],
      "metadata": {
        "id": "M6w2CzZf04JK"
      },
      "execution_count": null,
      "outputs": []
    },
    {
      "cell_type": "markdown",
      "source": [
        "The data points with sales value higher than 10.2 are very low and hence they an be considered as outliers."
      ],
      "metadata": {
        "id": "sSmDjpC0WzqZ"
      }
    },
    {
      "cell_type": "code",
      "source": [
        "#percentage of sales greater than 10.2\n",
        "sales_outliers = df1.loc[df1['Sales']> 10.2]\n",
        "percentage_of_outliers = (len(sales_outliers)/len(df1))*100\n",
        "#print\n",
        "print(f'The percentage of observations of sales greater than 28000 are {percentage_of_outliers}')"
      ],
      "metadata": {
        "id": "VOwASLDjXTwn"
      },
      "execution_count": null,
      "outputs": []
    },
    {
      "cell_type": "code",
      "source": [
        "#exploring the reasons behind this behaviour\n",
        "sales_outliers"
      ],
      "metadata": {
        "id": "D2zmVDBbXWZz"
      },
      "execution_count": null,
      "outputs": []
    },
    {
      "cell_type": "code",
      "source": [
        "#lets see which stores were open on Sunday in the outliers dataframe\n",
        "\n",
        "sales_outliers.loc[sales_outliers['DayOfWeek']==7]"
      ],
      "metadata": {
        "id": "4dg6YZUvXk7S"
      },
      "execution_count": null,
      "outputs": []
    },
    {
      "cell_type": "code",
      "source": [
        "#let's explore store type and Day Of week\n",
        "sns.barplot(x=df1['DayOfWeek'],y=df1[\"Sales\"],hue=df1['StoreType'])"
      ],
      "metadata": {
        "id": "wAz8LJZ1Xw07"
      },
      "execution_count": null,
      "outputs": []
    },
    {
      "cell_type": "code",
      "source": [
        "#let's verify in the full dataset\n",
        "df1.loc[(df1['DayOfWeek']==7) & (df1['StoreType']=='b')]"
      ],
      "metadata": {
        "id": "JKAg9G51X4Rn"
      },
      "execution_count": null,
      "outputs": []
    },
    {
      "cell_type": "markdown",
      "source": [
        "This suggests that store type b had high sales almost all week. No store of type C was open on Sunday.\n",
        "\n",
        "Being open 24*7 along with all kinds of assortments available is probably the reason why it had higher average sales than any other store type."
      ],
      "metadata": {
        "id": "S3QNqqYxYCqr"
      }
    },
    {
      "cell_type": "markdown",
      "source": [
        "# **Textual Data Preprocessing**"
      ],
      "metadata": {
        "id": "9vMdOvtBvygH"
      }
    },
    {
      "cell_type": "code",
      "source": [
        "df1.head(1)"
      ],
      "metadata": {
        "id": "ewng9o50sFNO"
      },
      "execution_count": null,
      "outputs": []
    },
    {
      "cell_type": "code",
      "source": [
        "#changing into boolean\n",
        "\n",
        "df1['StateHoliday'].replace({'a':1, 'b':1,'c':1}, inplace=True)\n",
        "\n",
        "#combining competition open since month and year into total months\n",
        "df1['CompetitionOpen'] = (df1['Year'] - df1['CompetitionOpenSinceYear'])*12 + (df1['Month'] - df1['CompetitionOpenSinceMonth'])\n",
        "\n",
        "#correcting the neg values\n",
        "df1['CompetitionOpen'] = df1['CompetitionOpen'].apply(lambda x:0 if x < 0 else x)"
      ],
      "metadata": {
        "id": "21JmIYMG2hEo"
      },
      "execution_count": null,
      "outputs": []
    },
    {
      "cell_type": "code",
      "source": [
        "#changing promo2 features into meaningful inputs\n",
        "\n",
        "#combining promo2 to total months\n",
        "df1['Promo2Open'] = (df1['Year'] - df1['Promo2SinceYear'])*12 + (df1['WeekOfYear'] - df1['Promo2SinceWeek'])*0.230137\n",
        "\n",
        "#correcting the neg values\n",
        "df1['CompetitionOpen'] = df1['CompetitionOpen'].apply(lambda x:0 if x < 0 else x)\n",
        "\n",
        "#dropping both the columns\n",
        "df1.drop(['CompetitionOpenSinceMonth','CompetitionOpenSinceYear'], axis=1,inplace=True)"
      ],
      "metadata": {
        "id": "Ym0gIRNGtMpc"
      },
      "execution_count": null,
      "outputs": []
    },
    {
      "cell_type": "markdown",
      "source": [
        "# **Removing Stopwords & Removing White spaces**"
      ],
      "metadata": {
        "id": "AM7faEU2vh4u"
      }
    },
    {
      "cell_type": "code",
      "source": [
        "#creating a feature for promo interval and checking if promo2 was running in the sale month\n",
        "\n",
        "def promo2running(df):\n",
        "  month_dict = {1:'Jan', 2:'Feb', 3:'Mar', 4:'Apr', 5:'May', 6:'Jun', 7:'Jul', 8:'Aug', 9:'Sept', 10:'Oct', 11:'Nov', 12:'Dec'}\n",
        "  try:\n",
        "    months = df['PromoInterval'].split(',')\n",
        "    if df['Month'] and month_dict[df['Month']] in months:\n",
        "      return 1\n",
        "    else:\n",
        "      return 0\n",
        "  except Exception:\n",
        "    return 0\n",
        "\n",
        "#Applying\n",
        "df1['Promo2running'] = df1.apply(promo2running,axis=1)*df1['Promo2']\n",
        "\n",
        "#Dropping unecessary columns\n",
        "df1.drop(['Promo2SinceYear','Promo2SinceWeek','PromoInterval'],axis=1,inplace=True)"
      ],
      "metadata": {
        "id": "zatFySSnuOgt"
      },
      "execution_count": null,
      "outputs": []
    },
    {
      "cell_type": "code",
      "source": [
        "#setting date and store as index\n",
        "df1.set_index(['Date','Store'],inplace=True)\n",
        "\n",
        "#sorting index following the time series\n",
        "df1.sort_index(inplace=True)"
      ],
      "metadata": {
        "id": "heAvBLmOusah"
      },
      "execution_count": null,
      "outputs": []
    },
    {
      "cell_type": "code",
      "source": [
        "df1.head(2)"
      ],
      "metadata": {
        "id": "gFIrDONIuwbb"
      },
      "execution_count": null,
      "outputs": []
    },
    {
      "cell_type": "markdown",
      "source": [
        "### 7. Dimesionality Reduction"
      ],
      "metadata": {
        "id": "1UUpS68QDMuG"
      }
    },
    {
      "cell_type": "markdown",
      "source": [
        "##### Do you think that dimensionality reduction is needed? Explain Why?"
      ],
      "metadata": {
        "id": "kexQrXU-DjzY"
      }
    },
    {
      "cell_type": "markdown",
      "source": [
        "Here, no need for dimentionality reduction."
      ],
      "metadata": {
        "id": "GGRlBsSGDtTQ"
      }
    },
    {
      "cell_type": "markdown",
      "source": [
        "### 8. Data Splitting"
      ],
      "metadata": {
        "id": "BhH2vgX9EjGr"
      }
    },
    {
      "cell_type": "code",
      "source": [
        "#just in case something messes up\n",
        "df2 = df1.copy()"
      ],
      "metadata": {
        "id": "HfwLSepeYMj8"
      },
      "execution_count": null,
      "outputs": []
    },
    {
      "cell_type": "code",
      "source": [
        "#Sales should be the last col\n",
        "columns=list(df2.columns)\n",
        "columns.remove('Sales')\n",
        "columns.append('Sales')\n",
        "df2=df2[columns]"
      ],
      "metadata": {
        "id": "FPf00o71YJI6"
      },
      "execution_count": null,
      "outputs": []
    },
    {
      "cell_type": "code",
      "source": [
        "df2.head(1)"
      ],
      "metadata": {
        "id": "D5NE6fKWYP_H"
      },
      "execution_count": null,
      "outputs": []
    },
    {
      "cell_type": "code",
      "source": [
        "# we won't need customers for sales forecasting\n",
        "df2.drop('Customers',axis=1,inplace=True)"
      ],
      "metadata": {
        "id": "Lndq-IREYdIK"
      },
      "execution_count": null,
      "outputs": []
    },
    {
      "cell_type": "code",
      "source": [
        "# Split your data to train and test. Choose Splitting ratio wisely.\n",
        "\n",
        "#slicing the most recent six weeks and creating train and test set\n",
        "#train\n",
        "start_train = pd.to_datetime(\"2013-01-01\")\n",
        "end_train = pd.to_datetime(\"2015-06-14\")\n",
        "df_train = df2.loc[start_train:end_train]\n",
        "\n",
        "#test\n",
        "start_test = pd.to_datetime(\"2015-06-15\")\n",
        "end_test = pd.to_datetime(\"2015-07-31\")\n",
        "df_test = df2.loc[start_test:end_test]"
      ],
      "metadata": {
        "id": "0CTyd2UwEyNM"
      },
      "execution_count": null,
      "outputs": []
    },
    {
      "cell_type": "code",
      "source": [
        "#csv\n",
        "df_train1 = df_train.to_csv(\"/content/drive/MyDrive/Data Science/Capston Project/Retail Store Prediction/df_train.csv\")\n",
        "df_test2 = df_test.to_csv(\"/content/drive/MyDrive/Data Science/Capston Project/Retail Store Prediction/df_test.csv\")"
      ],
      "metadata": {
        "id": "1jvGZJpOcavs"
      },
      "execution_count": null,
      "outputs": []
    },
    {
      "cell_type": "markdown",
      "source": [
        "##### What data splitting ratio have you used and why?"
      ],
      "metadata": {
        "id": "qjKvONjwE8ra"
      }
    },
    {
      "cell_type": "markdown",
      "source": [
        "Here, i split 01/01/2013 to 14/06/2015 for training purpose and 15/06/2015 to 31/07/2015 for testing purpose."
      ],
      "metadata": {
        "id": "Y2lJ8cobFDb_"
      }
    },
    {
      "cell_type": "code",
      "source": [
        "#X and y split for train and test\n",
        "X_train = df_train.drop('Sales',axis=1)\n",
        "y_train = df_train[['Sales']]\n",
        "X_test = df_test.drop('Sales',axis=1)\n",
        "y_test = df_test[['Sales']]\n",
        "print(f'The shape of X_train is: {X_train.shape}')\n",
        "print(f'The shape of y_train is: {y_train.shape}')\n",
        "print(f'The shape of X_test is: {X_test.shape}')\n",
        "print(f'The shape of y_test is: {y_test.shape}')\n"
      ],
      "metadata": {
        "id": "VFlPFfS2deKG"
      },
      "execution_count": null,
      "outputs": []
    },
    {
      "cell_type": "markdown",
      "source": [
        "# **Categorical Encoding**"
      ],
      "metadata": {
        "id": "6-TQYahYduyZ"
      }
    },
    {
      "cell_type": "code",
      "source": [
        "#importing\n",
        "from sklearn.preprocessing import OneHotEncoder\n",
        "\n",
        "#define categorical features\n",
        "categorical_cols = ['DayOfWeek', 'StoreType', 'Assortment']\n",
        "\n",
        "# fit encoder to features\n",
        "encoder = OneHotEncoder(sparse=False)\n",
        "\n",
        "# train encoder\n",
        "encoder.fit(X_train[categorical_cols])\n",
        "encoded_features = list(encoder.get_feature_names_out(categorical_cols))\n",
        "X_train[encoded_features] = encoder.transform(X_train[categorical_cols])\n",
        "\n",
        "# test encoder\n",
        "X_test[encoded_features] = encoder.transform(X_test[categorical_cols])\n",
        "\n",
        "# drop original features\n",
        "X_train.drop(categorical_cols,axis=1,inplace=True)\n",
        "X_test.drop(categorical_cols,axis=1,inplace=True)"
      ],
      "metadata": {
        "id": "MvWHSotxdmZe"
      },
      "execution_count": null,
      "outputs": []
    },
    {
      "cell_type": "markdown",
      "source": [
        "# **Scaling the data**"
      ],
      "metadata": {
        "id": "SdYsL4maeaAq"
      }
    },
    {
      "cell_type": "code",
      "source": [
        "# scaling\n",
        "from sklearn.preprocessing import StandardScaler\n",
        "stdsc = StandardScaler()\n",
        "X_train[list(X_train.columns)] = stdsc.fit_transform(X_train[list(X_train.columns)])\n",
        "X_test[list(X_test.columns)] = stdsc.transform(X_test[list(X_test.columns)])\n",
        "\n",
        "scaler = StandardScaler()\n",
        "y_train[list(y_train.columns)] = scaler.fit_transform(y_train[list(y_train.columns)])\n",
        "y_test[list(y_test.columns)] = scaler.transform(y_test[list(y_train.columns)])"
      ],
      "metadata": {
        "id": "lEF8zO6teYIb"
      },
      "execution_count": null,
      "outputs": []
    },
    {
      "cell_type": "markdown",
      "source": [
        "## ***7. ML Model Implementation***"
      ],
      "metadata": {
        "id": "VfCC591jGiD4"
      }
    },
    {
      "cell_type": "markdown",
      "source": [
        "# **ML Model - 1 Decision Tree Regressor**"
      ],
      "metadata": {
        "id": "OB4l2ZhMeS1U"
      }
    },
    {
      "cell_type": "code",
      "source": [
        "#Importing libraries\n",
        "from sklearn.tree import DecisionTreeRegressor"
      ],
      "metadata": {
        "id": "Rfp9mTwvfBWM"
      },
      "execution_count": null,
      "outputs": []
    },
    {
      "cell_type": "code",
      "source": [
        "# ML Model - 1 Implementation\n",
        "\n",
        "# fitting decision tree\n",
        "dt_basic = DecisionTreeRegressor(random_state=42)\n",
        "dt_basic.fit(X_train,y_train)\n",
        "\n",
        "# Define the parameter grid\n",
        "param_grid = {\n",
        "    'max_depth': [3, 5, 7, 9],\n",
        "    'min_samples_split': [2, 4, 6, 8],\n",
        "    'min_samples_leaf': [1, 2, 3, 4]\n",
        "}\n",
        "\n",
        "# Columns needed to compare metrics\n",
        "comparison_columns = ['Model_Name', 'Train_MAE', 'Train_MSE', 'Train_RMSE', 'Train_R2', 'Train_Adj_R2' ,'Test_MAE', 'Test_MSE', 'Test_RMSE', 'Test_R2', 'Test_Adj_R2']"
      ],
      "metadata": {
        "id": "7ebyywQieS1U"
      },
      "execution_count": null,
      "outputs": []
    },
    {
      "cell_type": "code",
      "source": [
        "# function to evaluate the model\n",
        "def model_evaluation(model_name,model_variable,X_train,y_train,Xtes_test,y_t):\n",
        "# This function predicts and evaluates various models for regression algorithms, visualizes results and creates a dataframe that compares the various models.\n",
        "\n",
        "  # making predictions\n",
        "  y_pred_train = model_variable.predict(X_train)\n",
        "  y_pred_test = model_variable.predict(X_test)\n",
        "\n",
        "  # Plot the test results\n",
        "  a = y_test.copy()\n",
        "  a['Pred Sales'] = y_pred_test.tolist()\n",
        "  df_plot = a.reset_index(level=['Date'])\n",
        "  plot = df_plot.groupby('Date')['Sales','Pred Sales'].sum()\n",
        "  sns.lineplot(data = plot)\n",
        "  plt.ylabel(\"Total Sales and Predicted Sales\")\n",
        "  plt.xticks(rotation = 25)\n",
        "\n",
        "\n",
        "  # calculate metrics and print the results for test set\n",
        "  # Mean Absolute Error or MAE\n",
        "  MAE_train = round(mean_absolute_error(y_train,y_pred_train),6)\n",
        "  MAE_test = round(mean_absolute_error(y_test,y_pred_test),6)\n",
        "\n",
        "  # Mean Squared Error or MSE\n",
        "  MSE_train = round(mean_squared_error(y_train,y_pred_train),6)\n",
        "  MSE_test = round(mean_squared_error(y_test,y_pred_test),6)\n",
        "\n",
        "  # Root Mean Squared Error or RMSE\n",
        "  RMSE_train = round(mean_squared_error(y_train,y_pred_train,squared=False),6)\n",
        "  RMSE_test = round(mean_squared_error(y_test,y_pred_test,squared=False),6)\n",
        "\n",
        "  # R2\n",
        "  R2_train = round(r2_score(y_train, y_pred_train),6)\n",
        "  R2_test = round(r2_score(y_test, y_pred_test),6)\n",
        "\n",
        "  # Adjusted R2\n",
        "  Adj_r2_train = round(1 - (1-r2_score(y_train, y_pred_train)) * (len(y_train)-1)/(len(y_train)-X_train.shape[1]-1),6)\n",
        "  Adj_r2_test = round(1 - (1-r2_score(y_test, y_pred_test)) * (len(y_test)-1)/(len(y_test)-X_test.shape[1]-1),6)\n",
        "\n",
        "  # printing test results\n",
        "  print(f'The Mean Absolute Error for the validation set is {MAE_test}')\n",
        "  print(f'The Mean Squared Error for the validation set is {MSE_test}')\n",
        "  print(f'The Root Mean Squared Error for the validation set is {RMSE_test}')\n",
        "  print(f'The R^2 for the validation set is {R2_test}')\n",
        "  print(f'The Adjusted R^2 for the validation set is {Adj_r2_test}')\n",
        "\n",
        "  # Saving our results\n",
        "  global comparison_columns\n",
        "  metric_scores = [model_name,MAE_train,MSE_train,RMSE_train,R2_train,Adj_r2_train,MAE_test,MSE_test,RMSE_test,R2_test,Adj_r2_test]\n",
        "  final_dict = dict(zip(comparison_columns,metric_scores))\n",
        "  return [final_dict]"
      ],
      "metadata": {
        "id": "jfisW2fcg19l"
      },
      "execution_count": null,
      "outputs": []
    },
    {
      "cell_type": "code",
      "source": [
        "#function to create the comparison table\n",
        "final_list = []\n",
        "def add_list_to_final_df(dict_list):\n",
        "  global final_list\n",
        "  for elem in dict_list:\n",
        "    final_list.append(elem)\n",
        "  global comparison_df\n",
        "  comparison_df = pd.DataFrame(final_list, columns= comparison_columns)"
      ],
      "metadata": {
        "id": "f4AMQXPVgYjC"
      },
      "execution_count": null,
      "outputs": []
    },
    {
      "cell_type": "markdown",
      "source": [
        "#### 1. Explain the ML Model used and it's performance using Evaluation metric Score Chart."
      ],
      "metadata": {
        "id": "ArJBuiUVfxKd"
      }
    },
    {
      "cell_type": "code",
      "source": [
        "#decision tree evaluation\n",
        "decision_tree = model_evaluation('Decision Tree Regressor',dt_basic,X_train,y_train,X_test,y_test)"
      ],
      "metadata": {
        "id": "XmCqHv_Mhib1"
      },
      "execution_count": null,
      "outputs": []
    },
    {
      "cell_type": "code",
      "source": [
        "#add results to comparison df\n",
        "add_list_to_final_df(decision_tree)"
      ],
      "metadata": {
        "id": "yR_8S8hStRL9"
      },
      "execution_count": null,
      "outputs": []
    },
    {
      "cell_type": "code",
      "source": [
        "#comparison df\n",
        "comparison_df"
      ],
      "metadata": {
        "id": "weeLw59dtTaH"
      },
      "execution_count": null,
      "outputs": []
    },
    {
      "cell_type": "markdown",
      "source": [
        "The baseline model- Decision tree was chosen considering our features were mostly categorical with few having continuous importance.\n",
        "\n",
        "The above results show that a simple decision tree is performing pretty well on the validation set but it has completely overfitted the train set. It's better to have a much more generalized model for future data points.\n",
        "\n",
        "Businesses prefer the model to be interpretable in nature in order to understand the patterns and strategize accordingly unlike any scientific facility where the results matter much more than interpretability."
      ],
      "metadata": {
        "id": "zI884PsdmRAp"
      }
    },
    {
      "cell_type": "markdown",
      "source": [
        "### ML Model - 2 Random Forest"
      ],
      "metadata": {
        "id": "dJ2tPlVmpsJ0"
      }
    },
    {
      "cell_type": "markdown",
      "source": [
        "#### 1. Explain the ML Model used and it's performance using Evaluation metric Score Chart."
      ],
      "metadata": {
        "id": "JWYfwnehpsJ1"
      }
    },
    {
      "cell_type": "code",
      "source": [
        "# fitting\n",
        "random_forest = RandomForestRegressor(n_estimators=50,random_state=42)\n",
        "random_forest.fit(X_train,y_train)"
      ],
      "metadata": {
        "id": "yEl-hgQWpsJ1"
      },
      "execution_count": null,
      "outputs": []
    },
    {
      "cell_type": "code",
      "source": [
        "#model evaluation\n",
        "random_f = model_evaluation('Random Forest Regressor',random_forest,X_train,y_train,X_test,y_test)"
      ],
      "metadata": {
        "id": "5yHofeLvsKmc"
      },
      "execution_count": null,
      "outputs": []
    },
    {
      "cell_type": "code",
      "source": [
        "# updating comparison df\n",
        "add_list_to_final_df(random_f)"
      ],
      "metadata": {
        "id": "F2uX13Wq17R2"
      },
      "execution_count": null,
      "outputs": []
    },
    {
      "cell_type": "code",
      "source": [
        "#comparison df\n",
        "comparison_df"
      ],
      "metadata": {
        "id": "mUanc56C19lQ"
      },
      "execution_count": null,
      "outputs": []
    },
    {
      "cell_type": "markdown",
      "source": [
        "Random Forest Regressor results were much better than our baseline model. Next we'll try to tune the hyperparameters and check the results."
      ],
      "metadata": {
        "id": "B81BE6uTmi9r"
      }
    },
    {
      "cell_type": "markdown",
      "source": [
        "#### Cross- Validation & Hyperparameter Tuning"
      ],
      "metadata": {
        "id": "y8VEHMzJGhdg"
      }
    },
    {
      "cell_type": "code",
      "source": [
        "# Create model\n",
        "rf_tuned = RandomForestRegressor()"
      ],
      "metadata": {
        "id": "b5F4ZMewsQXq"
      },
      "execution_count": null,
      "outputs": []
    },
    {
      "cell_type": "code",
      "source": [
        "# import\n",
        "from sklearn.model_selection import RandomizedSearchCV\n",
        "\n",
        "# grid\n",
        "random_grid = {'bootstrap': [True, False],\n",
        " 'max_depth': [ 90, 100, None],\n",
        " 'max_features': ['auto', 'sqrt'],\n",
        " 'min_samples_leaf': [1, 2, 4],\n",
        " 'min_samples_split': [2, 5, 8],\n",
        " 'n_estimators': [20, 40, 60]}\n",
        "\n",
        "rf_random = RandomizedSearchCV(estimator = rf_tuned, param_distributions = random_grid, n_iter = 10, cv = 3, verbose=2, random_state=42)\n",
        "\n",
        "# fitting\n",
        "rf_random.fit(X_train,y_train)"
      ],
      "metadata": {
        "id": "otxRiUxLsRmH"
      },
      "execution_count": null,
      "outputs": []
    },
    {
      "cell_type": "code",
      "source": [
        "#best para\n",
        "rf_random.best_params_"
      ],
      "metadata": {
        "id": "xnj9oEYRsRiQ"
      },
      "execution_count": null,
      "outputs": []
    },
    {
      "cell_type": "code",
      "source": [
        "#save the best parameters\n",
        "random_t = rf_random.best_estimator_"
      ],
      "metadata": {
        "id": "g_XgP-mTsReq"
      },
      "execution_count": null,
      "outputs": []
    },
    {
      "cell_type": "code",
      "source": [
        "#Columns needed to compare metrics\n",
        "\n",
        "comparison_columns = ['Model_Name', 'Train_MAE', 'Train_MSE', 'Train_RMSE', 'Train_R2', 'Train_Adj_R2' ,'Test_MAE', 'Test_MSE', 'Test_RMSE', 'Test_R2', 'Test_Adj_R2']"
      ],
      "metadata": {
        "id": "EZaKqUncsRaw"
      },
      "execution_count": null,
      "outputs": []
    },
    {
      "cell_type": "code",
      "source": [
        "#evaluate tuned model\n",
        "random_tuned = model_evaluation('Random Forest Tuned',random_t,X_train,y_train,X_test,y_test)"
      ],
      "metadata": {
        "id": "WzzV7-nTDvsv"
      },
      "execution_count": null,
      "outputs": []
    },
    {
      "cell_type": "code",
      "source": [
        "#add to comparison_df\n",
        "comparison_df = comparison_df.append(random_tuned)"
      ],
      "metadata": {
        "id": "RSSDI_xxDviG"
      },
      "execution_count": null,
      "outputs": []
    },
    {
      "cell_type": "code",
      "source": [
        "#comparison_df\n",
        "comparison_df"
      ],
      "metadata": {
        "id": "OmWbFr4uD3fK"
      },
      "execution_count": null,
      "outputs": []
    },
    {
      "cell_type": "markdown",
      "source": [
        "### ML Model - 3 XGBoost"
      ],
      "metadata": {
        "id": "Fze-IPXLpx6K"
      }
    },
    {
      "cell_type": "code",
      "source": [
        "import xgboost as xgb"
      ],
      "metadata": {
        "id": "CLdpVUXMm7Zt"
      },
      "execution_count": null,
      "outputs": []
    },
    {
      "cell_type": "code",
      "source": [
        "# ML Model - 3 Implementation\n",
        "\n",
        "# Initialize the XGBoost Regressor\n",
        "model = xgb.XGBRegressor(\n",
        "    n_estimators=50,    # Number of boosting rounds (trees)\n",
        "    learning_rate=0.1,    # Step size shrinkage to prevent overfitting\n",
        "    max_depth=3,          # Maximum depth of the trees\n",
        "    subsample=0.8,        # Fraction of samples to be used for fitting the individual trees\n",
        "    colsample_bytree=0.8, # Fraction of features to be used for fitting the individual trees\n",
        "    random_state=42\n",
        ")\n",
        "\n",
        "# Fit the model to the training data\n",
        "model.fit(X_train, y_train)"
      ],
      "metadata": {
        "id": "FFrSXAtrpx6M"
      },
      "execution_count": null,
      "outputs": []
    },
    {
      "cell_type": "code",
      "source": [
        "#model evaluation\n",
        "XGBoost = model_evaluation('XGBoost Regressor',model,X_train,y_train,X_test,y_test)"
      ],
      "metadata": {
        "id": "k7gmzzv2nXuO"
      },
      "execution_count": null,
      "outputs": []
    },
    {
      "cell_type": "code",
      "source": [
        "# updating comparison df\n",
        "add_list_to_final_df(XGBoost)"
      ],
      "metadata": {
        "id": "oVBEUJdJ2H38"
      },
      "execution_count": null,
      "outputs": []
    },
    {
      "cell_type": "code",
      "source": [
        "#comparison df\n",
        "comparison_df"
      ],
      "metadata": {
        "id": "SMZHAXpF20QP"
      },
      "execution_count": null,
      "outputs": []
    },
    {
      "cell_type": "code",
      "source": [
        "#creating a csv file for the cleaned dataset\n",
        "# Rossmann sales prediction to be continued in the next notebook, due to lack of ram colab is crashing\n",
        "#creating a csv file for the comparison dataframe\n",
        "\n",
        "results = comparison_df.to_csv(\"/content/drive/MyDrive/Data Science/Capston Project/Retail Store Prediction/results.csv\")"
      ],
      "metadata": {
        "id": "V8OMMHHvpOEw"
      },
      "execution_count": null,
      "outputs": []
    },
    {
      "cell_type": "code",
      "source": [
        "#visualising feature importance of XGB\n",
        "feature_imp = pd.DataFrame({\"Variable\": X_test.columns,\"Importance\": random_t.feature_importances_})\n",
        "feature_imp.sort_values(by=\"Importance\", ascending=False, inplace = True)\n",
        "sns.barplot(x=feature_imp['Importance'], y= feature_imp['Variable'])"
      ],
      "metadata": {
        "id": "UYrJAUuRD99a"
      },
      "execution_count": null,
      "outputs": []
    },
    {
      "cell_type": "code",
      "source": [
        "#Taking a look of our final comparison dataframe\n",
        "comparison_df"
      ],
      "metadata": {
        "id": "zWP__VscEAE_"
      },
      "execution_count": null,
      "outputs": []
    },
    {
      "cell_type": "code",
      "source": [
        "#visualising our comparison df for Test R2\n",
        "sns.barplot(y=comparison_df['Model_Name'], x = comparison_df['Test_R2'])"
      ],
      "metadata": {
        "id": "dB7_j5_fECJU"
      },
      "execution_count": null,
      "outputs": []
    },
    {
      "cell_type": "code",
      "source": [
        "#test values\n",
        "baseline_r2 = 0.656444\n",
        "random_r2 = 0.824541\n",
        "r_tuned_r2 = 0.819486\n",
        "XGBoost_r2 = 0.334879"
      ],
      "metadata": {
        "id": "xr8Zs5qqECFK"
      },
      "execution_count": null,
      "outputs": []
    },
    {
      "cell_type": "code",
      "source": [
        "#improvement %\n",
        "improvement_r = ((random_r2 - baseline_r2)/baseline_r2)*100\n",
        "print('Model Performance')\n",
        "print(f'Improvement of {round(improvement_r,3)} % was seen in Random Forest against Decision Tree.')"
      ],
      "metadata": {
        "id": "ahUbkfwvEErF"
      },
      "execution_count": null,
      "outputs": []
    },
    {
      "cell_type": "code",
      "source": [
        "#improvement % of tuned vs baseline\n",
        "\n",
        "improvement_r = ((r_tuned_r2 - baseline_r2)/baseline_r2)*100\n",
        "print('Model Performance')\n",
        "print(f'Improvement of {round(improvement_r,3)} % was seen in Random Forest Tuned against Decision Tree.')"
      ],
      "metadata": {
        "id": "3OSnQOyZEGso"
      },
      "execution_count": null,
      "outputs": []
    },
    {
      "cell_type": "code",
      "source": [
        "#improvement % of tuned vs simple random forest\n",
        "improvement_r = ((r_tuned_r2 - random_r2)/random_r2)*100\n",
        "print('Model Performance')\n",
        "print(f'Improvement of {round(improvement_r,3)} % was seen in Random Forest Tuned against Simple Random Forest.')"
      ],
      "metadata": {
        "id": "K5Qg8hcQEEnG"
      },
      "execution_count": null,
      "outputs": []
    },
    {
      "cell_type": "code",
      "source": [
        "#improvement % of tuned vs simple random forest\n",
        "improvement_r = ((r_tuned_r2 - XGBoost_r2)/XGBoost_r2)*100\n",
        "print('Model Performance')\n",
        "print(f'Improvement of {round(improvement_r,3)} % was seen in Random Forest Tuned against XGBoost Regressor.')"
      ],
      "metadata": {
        "id": "nJvSaRlWhr_f"
      },
      "execution_count": null,
      "outputs": []
    },
    {
      "cell_type": "markdown",
      "source": [
        "# **Store wise Sales Predictions**"
      ],
      "metadata": {
        "id": "-vrxK_8zEM3M"
      }
    },
    {
      "cell_type": "code",
      "source": [
        "#predictions\n",
        "y_pred_test = random_t.predict(X_test)\n",
        "six_weeks_sales_df = y_test.copy()\n",
        "six_weeks_sales_df['Pred_Sales'] = y_pred_test.tolist()"
      ],
      "metadata": {
        "id": "st4ZatZ2EPCQ"
      },
      "execution_count": null,
      "outputs": []
    },
    {
      "cell_type": "code",
      "source": [
        "#head\n",
        "six_weeks_sales_df.head()"
      ],
      "metadata": {
        "id": "9l_RyCYOEVyE"
      },
      "execution_count": null,
      "outputs": []
    },
    {
      "cell_type": "code",
      "source": [
        "#inverse\n",
        "six_weeks_sales_df[['Sales']] = scaler.inverse_transform(six_weeks_sales_df[['Sales']])\n",
        "six_weeks_sales_df[['Pred_Sales']] = scaler.inverse_transform(six_weeks_sales_df[['Pred_Sales']])"
      ],
      "metadata": {
        "id": "P65ZzxWDEeEF"
      },
      "execution_count": null,
      "outputs": []
    },
    {
      "cell_type": "code",
      "source": [
        "#sales vs predictions\n",
        "six_weeks_sales_df.head()"
      ],
      "metadata": {
        "id": "w5qpkoUREgTB"
      },
      "execution_count": null,
      "outputs": []
    },
    {
      "cell_type": "code",
      "source": [
        "#locating\n",
        "six_weeks_sales_df.loc[('2015-06-15',5)]"
      ],
      "metadata": {
        "id": "8Iso_lI6FGMI"
      },
      "execution_count": null,
      "outputs": []
    },
    {
      "cell_type": "code",
      "source": [
        "#locating\n",
        "six_weeks_sales_df.loc[('2015-07-28',56)]"
      ],
      "metadata": {
        "id": "0mTZxaBzFGEW"
      },
      "execution_count": null,
      "outputs": []
    },
    {
      "cell_type": "code",
      "source": [
        "#locating\n",
        "six_weeks_sales_df.loc[('2015-07-21',10)]"
      ],
      "metadata": {
        "id": "XgZqsTH7wJAM"
      },
      "execution_count": null,
      "outputs": []
    },
    {
      "cell_type": "markdown",
      "source": [
        "# **Conclusion**"
      ],
      "metadata": {
        "id": "gCX9965dhzqZ"
      }
    },
    {
      "cell_type": "markdown",
      "source": [
        "There's a positive correlation between customers and sales which is explanatory.\n",
        "\n",
        "Here it can be deduced that there were more sales on Monday, probably because shops generally remain closed on Sundays which had the lowest sales in a week. This validates the hypothesis about this feature.\n",
        "\n",
        "The positive effect of promotion on Customers and Sales is observable.\n",
        "\n",
        "It is clear that most of the stores remain closed during State and School Holidays.\n",
        "\n",
        "Based on the above findings it seems that there are quite a lot of opportunities in store type 'b' & 'd' as they had more number of customers per store and more sales per customer, respectively. Store type a & c are quite similar in terms of \"per customer and per store\" sales numbers and just because the majority of the stores were of these kinds, they had the best overall revenue numbers. On the other hand, store type b were very few in number and even then they had better average sales than others.\n",
        "\n",
        "When comparing the sales of the three years, it is observable that sales increase by the end of the year indicating that people shop more before the holidays. All the stores showed Christmas seasonality. This validates the previous hypothesis.\n",
        "\n",
        "The second thing to notice was that sales dropped for a few months in 2014 accounting for the stores closed due to refurbishment.\n",
        "\n",
        "Most stores have competition distance within the range of 0 to 10 kms and had more sales than stores far away."
      ],
      "metadata": {
        "id": "Fjb1IsQkh3yE"
      }
    },
    {
      "cell_type": "markdown",
      "source": [
        "# **Recommendations**\n",
        "\n",
        "More stores should be encouraged for promotion.\n",
        "Store type B should be increased in number.\n",
        "There's a seasonality involved, hence the stores should be encouraged to promote and take advantage of the holidays."
      ],
      "metadata": {
        "id": "61AMvAzpvnaU"
      }
    },
    {
      "cell_type": "markdown",
      "source": [
        "### ***Hurrah! You have successfully completed your Machine Learning Capstone Project !!!***"
      ],
      "metadata": {
        "id": "gIfDvo9L0UH2"
      }
    }
  ]
}